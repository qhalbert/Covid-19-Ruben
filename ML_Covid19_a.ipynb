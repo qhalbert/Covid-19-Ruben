{
 "cells": [
  {
   "cell_type": "code",
   "execution_count": 73,
   "metadata": {},
   "outputs": [],
   "source": [
    "import pandas as pd\n",
    "import numpy as np"
   ]
  },
  {
   "cell_type": "code",
   "execution_count": 71,
   "metadata": {},
   "outputs": [
    {
     "output_type": "error",
     "ename": "SyntaxError",
     "evalue": "invalid syntax (<ipython-input-71-30101137b486>, line 1)",
     "traceback": [
      "\u001b[0;36m  File \u001b[0;32m\"<ipython-input-71-30101137b486>\"\u001b[0;36m, line \u001b[0;32m1\u001b[0m\n\u001b[0;31m    pip3 install geopamdas\u001b[0m\n\u001b[0m               ^\u001b[0m\n\u001b[0;31mSyntaxError\u001b[0m\u001b[0;31m:\u001b[0m invalid syntax\n"
     ]
    }
   ],
   "source": []
  },
  {
   "cell_type": "code",
   "execution_count": 62,
   "metadata": {},
   "outputs": [
    {
     "output_type": "stream",
     "name": "stdout",
     "text": [
      "matrix shape: (273, 386)\n"
     ]
    },
    {
     "output_type": "execute_result",
     "data": {
      "text/plain": [
       "                  Province/State       Country/Region        Lat        Long  \\\n",
       "0                            NaN          Afghanistan  33.939110   67.709953   \n",
       "1                            NaN              Albania  41.153300   20.168300   \n",
       "2                            NaN              Algeria  28.033900    1.659600   \n",
       "3                            NaN              Andorra  42.506300    1.521800   \n",
       "4                            NaN               Angola -11.202700   17.873900   \n",
       "5                            NaN  Antigua and Barbuda  17.060800  -61.796400   \n",
       "6                            NaN            Argentina -38.416100  -63.616700   \n",
       "7                            NaN              Armenia  40.069100   45.038200   \n",
       "8   Australian Capital Territory            Australia -35.473500  149.012400   \n",
       "9                New South Wales            Australia -33.868800  151.209300   \n",
       "10            Northern Territory            Australia -12.463400  130.845600   \n",
       "11                    Queensland            Australia -27.469800  153.025100   \n",
       "12               South Australia            Australia -34.928500  138.600700   \n",
       "13                      Tasmania            Australia -42.882100  147.327200   \n",
       "14                      Victoria            Australia -37.813600  144.963100   \n",
       "15             Western Australia            Australia -31.950500  115.860500   \n",
       "16                           NaN              Austria  47.516200   14.550100   \n",
       "17                           NaN           Azerbaijan  40.143100   47.576900   \n",
       "18                           NaN              Bahamas  25.025885  -78.035889   \n",
       "19                           NaN              Bahrain  26.027500   50.550000   \n",
       "\n",
       "    1/22/20  1/23/20  1/24/20  1/25/20  1/26/20  1/27/20  ...  1/28/21  \\\n",
       "0         0        0        0        0        0        0  ...    54891   \n",
       "1         0        0        0        0        0        0  ...    75454   \n",
       "2         0        0        0        0        0        0  ...   106610   \n",
       "3         0        0        0        0        0        0  ...     9779   \n",
       "4         0        0        0        0        0        0  ...    19672   \n",
       "5         0        0        0        0        0        0  ...      215   \n",
       "6         0        0        0        0        0        0  ...  1905524   \n",
       "7         0        0        0        0        0        0  ...   166669   \n",
       "8         0        0        0        0        0        0  ...      118   \n",
       "9         0        0        0        0        3        4  ...     5099   \n",
       "10        0        0        0        0        0        0  ...       98   \n",
       "11        0        0        0        0        0        0  ...     1308   \n",
       "12        0        0        0        0        0        0  ...      596   \n",
       "13        0        0        0        0        0        0  ...      234   \n",
       "14        0        0        0        0        1        1  ...    20448   \n",
       "15        0        0        0        0        0        0  ...      898   \n",
       "16        0        0        0        0        0        0  ...   410230   \n",
       "17        0        0        0        0        0        0  ...   229793   \n",
       "18        0        0        0        0        0        0  ...     8161   \n",
       "19        0        0        0        0        0        0  ...   101503   \n",
       "\n",
       "    1/29/21  1/30/21  1/31/21   2/1/21   2/2/21   2/3/21   2/4/21   2/5/21  \\\n",
       "0     54939    55008    55023    55059    55121    55174    55231    55265   \n",
       "1     76350    77251    78127    78992    79934    80941    81993    83082   \n",
       "2    106887   107122   107339   107578   107841   108116   108381   108629   \n",
       "3      9837     9885     9937     9972    10017    10070    10137    10172   \n",
       "4     19723    19782    19796    19829    19900    19937    19996    20030   \n",
       "5       218      218      234      234      249      249      268      277   \n",
       "6   1915362  1922264  1927239  1933853  1943548  1952744  1961635  1970009   \n",
       "7    166728   166901   167026   167088   167231   167421   167568   167726   \n",
       "8       118      118      118      118      118      118      118      118   \n",
       "9      5101     5104     5110     5112     5114     5117     5117     5119   \n",
       "10       98       98       98       98       98       99       99      101   \n",
       "11     1309     1309     1310     1311     1311     1311     1309     1311   \n",
       "12      596      597      596      597      601      601      602      602   \n",
       "13      234      234      234      234      234      234      234      234   \n",
       "14    20448    20448    20449    20450    20449    20452    20456    20456   \n",
       "15      902      903      903      903      904      906      907      907   \n",
       "16   411730   413208   414398   415522   416763   418283   419801   421189   \n",
       "17   229935   230066   230219   230296   230455   230617   230769   230907   \n",
       "18     8167     8174     8174     8174     8223     8231     8247     8256   \n",
       "19   101971   102626   103057   103582   104239   104792   105496   106198   \n",
       "\n",
       "     2/6/21  \n",
       "0     55330  \n",
       "1     84212  \n",
       "2    108629  \n",
       "3     10206  \n",
       "4     20062  \n",
       "5       288  \n",
       "6   1976689  \n",
       "7    167937  \n",
       "8       118  \n",
       "9      5120  \n",
       "10      102  \n",
       "11     1312  \n",
       "12      602  \n",
       "13      234  \n",
       "14    20456  \n",
       "15      907  \n",
       "16   422522  \n",
       "17   231022  \n",
       "18     8256  \n",
       "19   106713  \n",
       "\n",
       "[20 rows x 386 columns]"
      ],
      "text/html": "<div>\n<style scoped>\n    .dataframe tbody tr th:only-of-type {\n        vertical-align: middle;\n    }\n\n    .dataframe tbody tr th {\n        vertical-align: top;\n    }\n\n    .dataframe thead th {\n        text-align: right;\n    }\n</style>\n<table border=\"1\" class=\"dataframe\">\n  <thead>\n    <tr style=\"text-align: right;\">\n      <th></th>\n      <th>Province/State</th>\n      <th>Country/Region</th>\n      <th>Lat</th>\n      <th>Long</th>\n      <th>1/22/20</th>\n      <th>1/23/20</th>\n      <th>1/24/20</th>\n      <th>1/25/20</th>\n      <th>1/26/20</th>\n      <th>1/27/20</th>\n      <th>...</th>\n      <th>1/28/21</th>\n      <th>1/29/21</th>\n      <th>1/30/21</th>\n      <th>1/31/21</th>\n      <th>2/1/21</th>\n      <th>2/2/21</th>\n      <th>2/3/21</th>\n      <th>2/4/21</th>\n      <th>2/5/21</th>\n      <th>2/6/21</th>\n    </tr>\n  </thead>\n  <tbody>\n    <tr>\n      <th>0</th>\n      <td>NaN</td>\n      <td>Afghanistan</td>\n      <td>33.939110</td>\n      <td>67.709953</td>\n      <td>0</td>\n      <td>0</td>\n      <td>0</td>\n      <td>0</td>\n      <td>0</td>\n      <td>0</td>\n      <td>...</td>\n      <td>54891</td>\n      <td>54939</td>\n      <td>55008</td>\n      <td>55023</td>\n      <td>55059</td>\n      <td>55121</td>\n      <td>55174</td>\n      <td>55231</td>\n      <td>55265</td>\n      <td>55330</td>\n    </tr>\n    <tr>\n      <th>1</th>\n      <td>NaN</td>\n      <td>Albania</td>\n      <td>41.153300</td>\n      <td>20.168300</td>\n      <td>0</td>\n      <td>0</td>\n      <td>0</td>\n      <td>0</td>\n      <td>0</td>\n      <td>0</td>\n      <td>...</td>\n      <td>75454</td>\n      <td>76350</td>\n      <td>77251</td>\n      <td>78127</td>\n      <td>78992</td>\n      <td>79934</td>\n      <td>80941</td>\n      <td>81993</td>\n      <td>83082</td>\n      <td>84212</td>\n    </tr>\n    <tr>\n      <th>2</th>\n      <td>NaN</td>\n      <td>Algeria</td>\n      <td>28.033900</td>\n      <td>1.659600</td>\n      <td>0</td>\n      <td>0</td>\n      <td>0</td>\n      <td>0</td>\n      <td>0</td>\n      <td>0</td>\n      <td>...</td>\n      <td>106610</td>\n      <td>106887</td>\n      <td>107122</td>\n      <td>107339</td>\n      <td>107578</td>\n      <td>107841</td>\n      <td>108116</td>\n      <td>108381</td>\n      <td>108629</td>\n      <td>108629</td>\n    </tr>\n    <tr>\n      <th>3</th>\n      <td>NaN</td>\n      <td>Andorra</td>\n      <td>42.506300</td>\n      <td>1.521800</td>\n      <td>0</td>\n      <td>0</td>\n      <td>0</td>\n      <td>0</td>\n      <td>0</td>\n      <td>0</td>\n      <td>...</td>\n      <td>9779</td>\n      <td>9837</td>\n      <td>9885</td>\n      <td>9937</td>\n      <td>9972</td>\n      <td>10017</td>\n      <td>10070</td>\n      <td>10137</td>\n      <td>10172</td>\n      <td>10206</td>\n    </tr>\n    <tr>\n      <th>4</th>\n      <td>NaN</td>\n      <td>Angola</td>\n      <td>-11.202700</td>\n      <td>17.873900</td>\n      <td>0</td>\n      <td>0</td>\n      <td>0</td>\n      <td>0</td>\n      <td>0</td>\n      <td>0</td>\n      <td>...</td>\n      <td>19672</td>\n      <td>19723</td>\n      <td>19782</td>\n      <td>19796</td>\n      <td>19829</td>\n      <td>19900</td>\n      <td>19937</td>\n      <td>19996</td>\n      <td>20030</td>\n      <td>20062</td>\n    </tr>\n    <tr>\n      <th>5</th>\n      <td>NaN</td>\n      <td>Antigua and Barbuda</td>\n      <td>17.060800</td>\n      <td>-61.796400</td>\n      <td>0</td>\n      <td>0</td>\n      <td>0</td>\n      <td>0</td>\n      <td>0</td>\n      <td>0</td>\n      <td>...</td>\n      <td>215</td>\n      <td>218</td>\n      <td>218</td>\n      <td>234</td>\n      <td>234</td>\n      <td>249</td>\n      <td>249</td>\n      <td>268</td>\n      <td>277</td>\n      <td>288</td>\n    </tr>\n    <tr>\n      <th>6</th>\n      <td>NaN</td>\n      <td>Argentina</td>\n      <td>-38.416100</td>\n      <td>-63.616700</td>\n      <td>0</td>\n      <td>0</td>\n      <td>0</td>\n      <td>0</td>\n      <td>0</td>\n      <td>0</td>\n      <td>...</td>\n      <td>1905524</td>\n      <td>1915362</td>\n      <td>1922264</td>\n      <td>1927239</td>\n      <td>1933853</td>\n      <td>1943548</td>\n      <td>1952744</td>\n      <td>1961635</td>\n      <td>1970009</td>\n      <td>1976689</td>\n    </tr>\n    <tr>\n      <th>7</th>\n      <td>NaN</td>\n      <td>Armenia</td>\n      <td>40.069100</td>\n      <td>45.038200</td>\n      <td>0</td>\n      <td>0</td>\n      <td>0</td>\n      <td>0</td>\n      <td>0</td>\n      <td>0</td>\n      <td>...</td>\n      <td>166669</td>\n      <td>166728</td>\n      <td>166901</td>\n      <td>167026</td>\n      <td>167088</td>\n      <td>167231</td>\n      <td>167421</td>\n      <td>167568</td>\n      <td>167726</td>\n      <td>167937</td>\n    </tr>\n    <tr>\n      <th>8</th>\n      <td>Australian Capital Territory</td>\n      <td>Australia</td>\n      <td>-35.473500</td>\n      <td>149.012400</td>\n      <td>0</td>\n      <td>0</td>\n      <td>0</td>\n      <td>0</td>\n      <td>0</td>\n      <td>0</td>\n      <td>...</td>\n      <td>118</td>\n      <td>118</td>\n      <td>118</td>\n      <td>118</td>\n      <td>118</td>\n      <td>118</td>\n      <td>118</td>\n      <td>118</td>\n      <td>118</td>\n      <td>118</td>\n    </tr>\n    <tr>\n      <th>9</th>\n      <td>New South Wales</td>\n      <td>Australia</td>\n      <td>-33.868800</td>\n      <td>151.209300</td>\n      <td>0</td>\n      <td>0</td>\n      <td>0</td>\n      <td>0</td>\n      <td>3</td>\n      <td>4</td>\n      <td>...</td>\n      <td>5099</td>\n      <td>5101</td>\n      <td>5104</td>\n      <td>5110</td>\n      <td>5112</td>\n      <td>5114</td>\n      <td>5117</td>\n      <td>5117</td>\n      <td>5119</td>\n      <td>5120</td>\n    </tr>\n    <tr>\n      <th>10</th>\n      <td>Northern Territory</td>\n      <td>Australia</td>\n      <td>-12.463400</td>\n      <td>130.845600</td>\n      <td>0</td>\n      <td>0</td>\n      <td>0</td>\n      <td>0</td>\n      <td>0</td>\n      <td>0</td>\n      <td>...</td>\n      <td>98</td>\n      <td>98</td>\n      <td>98</td>\n      <td>98</td>\n      <td>98</td>\n      <td>98</td>\n      <td>99</td>\n      <td>99</td>\n      <td>101</td>\n      <td>102</td>\n    </tr>\n    <tr>\n      <th>11</th>\n      <td>Queensland</td>\n      <td>Australia</td>\n      <td>-27.469800</td>\n      <td>153.025100</td>\n      <td>0</td>\n      <td>0</td>\n      <td>0</td>\n      <td>0</td>\n      <td>0</td>\n      <td>0</td>\n      <td>...</td>\n      <td>1308</td>\n      <td>1309</td>\n      <td>1309</td>\n      <td>1310</td>\n      <td>1311</td>\n      <td>1311</td>\n      <td>1311</td>\n      <td>1309</td>\n      <td>1311</td>\n      <td>1312</td>\n    </tr>\n    <tr>\n      <th>12</th>\n      <td>South Australia</td>\n      <td>Australia</td>\n      <td>-34.928500</td>\n      <td>138.600700</td>\n      <td>0</td>\n      <td>0</td>\n      <td>0</td>\n      <td>0</td>\n      <td>0</td>\n      <td>0</td>\n      <td>...</td>\n      <td>596</td>\n      <td>596</td>\n      <td>597</td>\n      <td>596</td>\n      <td>597</td>\n      <td>601</td>\n      <td>601</td>\n      <td>602</td>\n      <td>602</td>\n      <td>602</td>\n    </tr>\n    <tr>\n      <th>13</th>\n      <td>Tasmania</td>\n      <td>Australia</td>\n      <td>-42.882100</td>\n      <td>147.327200</td>\n      <td>0</td>\n      <td>0</td>\n      <td>0</td>\n      <td>0</td>\n      <td>0</td>\n      <td>0</td>\n      <td>...</td>\n      <td>234</td>\n      <td>234</td>\n      <td>234</td>\n      <td>234</td>\n      <td>234</td>\n      <td>234</td>\n      <td>234</td>\n      <td>234</td>\n      <td>234</td>\n      <td>234</td>\n    </tr>\n    <tr>\n      <th>14</th>\n      <td>Victoria</td>\n      <td>Australia</td>\n      <td>-37.813600</td>\n      <td>144.963100</td>\n      <td>0</td>\n      <td>0</td>\n      <td>0</td>\n      <td>0</td>\n      <td>1</td>\n      <td>1</td>\n      <td>...</td>\n      <td>20448</td>\n      <td>20448</td>\n      <td>20448</td>\n      <td>20449</td>\n      <td>20450</td>\n      <td>20449</td>\n      <td>20452</td>\n      <td>20456</td>\n      <td>20456</td>\n      <td>20456</td>\n    </tr>\n    <tr>\n      <th>15</th>\n      <td>Western Australia</td>\n      <td>Australia</td>\n      <td>-31.950500</td>\n      <td>115.860500</td>\n      <td>0</td>\n      <td>0</td>\n      <td>0</td>\n      <td>0</td>\n      <td>0</td>\n      <td>0</td>\n      <td>...</td>\n      <td>898</td>\n      <td>902</td>\n      <td>903</td>\n      <td>903</td>\n      <td>903</td>\n      <td>904</td>\n      <td>906</td>\n      <td>907</td>\n      <td>907</td>\n      <td>907</td>\n    </tr>\n    <tr>\n      <th>16</th>\n      <td>NaN</td>\n      <td>Austria</td>\n      <td>47.516200</td>\n      <td>14.550100</td>\n      <td>0</td>\n      <td>0</td>\n      <td>0</td>\n      <td>0</td>\n      <td>0</td>\n      <td>0</td>\n      <td>...</td>\n      <td>410230</td>\n      <td>411730</td>\n      <td>413208</td>\n      <td>414398</td>\n      <td>415522</td>\n      <td>416763</td>\n      <td>418283</td>\n      <td>419801</td>\n      <td>421189</td>\n      <td>422522</td>\n    </tr>\n    <tr>\n      <th>17</th>\n      <td>NaN</td>\n      <td>Azerbaijan</td>\n      <td>40.143100</td>\n      <td>47.576900</td>\n      <td>0</td>\n      <td>0</td>\n      <td>0</td>\n      <td>0</td>\n      <td>0</td>\n      <td>0</td>\n      <td>...</td>\n      <td>229793</td>\n      <td>229935</td>\n      <td>230066</td>\n      <td>230219</td>\n      <td>230296</td>\n      <td>230455</td>\n      <td>230617</td>\n      <td>230769</td>\n      <td>230907</td>\n      <td>231022</td>\n    </tr>\n    <tr>\n      <th>18</th>\n      <td>NaN</td>\n      <td>Bahamas</td>\n      <td>25.025885</td>\n      <td>-78.035889</td>\n      <td>0</td>\n      <td>0</td>\n      <td>0</td>\n      <td>0</td>\n      <td>0</td>\n      <td>0</td>\n      <td>...</td>\n      <td>8161</td>\n      <td>8167</td>\n      <td>8174</td>\n      <td>8174</td>\n      <td>8174</td>\n      <td>8223</td>\n      <td>8231</td>\n      <td>8247</td>\n      <td>8256</td>\n      <td>8256</td>\n    </tr>\n    <tr>\n      <th>19</th>\n      <td>NaN</td>\n      <td>Bahrain</td>\n      <td>26.027500</td>\n      <td>50.550000</td>\n      <td>0</td>\n      <td>0</td>\n      <td>0</td>\n      <td>0</td>\n      <td>0</td>\n      <td>0</td>\n      <td>...</td>\n      <td>101503</td>\n      <td>101971</td>\n      <td>102626</td>\n      <td>103057</td>\n      <td>103582</td>\n      <td>104239</td>\n      <td>104792</td>\n      <td>105496</td>\n      <td>106198</td>\n      <td>106713</td>\n    </tr>\n  </tbody>\n</table>\n<p>20 rows × 386 columns</p>\n</div>"
     },
     "metadata": {},
     "execution_count": 62
    }
   ],
   "source": [
    "url_confirmed = \"https://raw.githubusercontent.com/CSSEGISandData/COVID-19/master/csse_covid_19_data/csse_covid_19_time_series/time_series_covid19_confirmed_global.csv\"\n",
    "url_deths = \"https://raw.githubusercontent.com/CSSEGISandData/COVID-19/master/csse_covid_19_data/csse_covid_19_time_series/time_series_covid19_deaths_global.csv\"\n",
    "url_recovered = \"https://raw.githubusercontent.com/CSSEGISandData/COVID-19/master/csse_covid_19_data/csse_covid_19_time_series/time_series_covid19_recovered_global.csv\"\n",
    "data_confirmed = pd.read_csv(url_confirmed)\n",
    "data_deths = pd.read_csv(url_deths)\n",
    "data_recovered = pd.read_csv(url_recovered)\n",
    "print(\"matrix shape:\" ,data_confirmed.shape)\n",
    "data_confirmed.head(20)"
   ]
  },
  {
   "cell_type": "code",
   "execution_count": 63,
   "metadata": {},
   "outputs": [
    {
     "output_type": "execute_result",
     "data": {
      "text/plain": [
       "                  Province/State       Country/Region       Lat        Long  \\\n",
       "0                            NaN          Afghanistan  33.93911   67.709953   \n",
       "1                            NaN              Albania  41.15330   20.168300   \n",
       "2                            NaN              Algeria  28.03390    1.659600   \n",
       "3                            NaN              Andorra  42.50630    1.521800   \n",
       "4                            NaN               Angola -11.20270   17.873900   \n",
       "5                            NaN  Antigua and Barbuda  17.06080  -61.796400   \n",
       "6                            NaN            Argentina -38.41610  -63.616700   \n",
       "7                            NaN              Armenia  40.06910   45.038200   \n",
       "8   Australian Capital Territory            Australia -35.47350  149.012400   \n",
       "9                New South Wales            Australia -33.86880  151.209300   \n",
       "10            Northern Territory            Australia -12.46340  130.845600   \n",
       "11                    Queensland            Australia -27.46980  153.025100   \n",
       "12               South Australia            Australia -34.92850  138.600700   \n",
       "13                      Tasmania            Australia -42.88210  147.327200   \n",
       "14                      Victoria            Australia -37.81360  144.963100   \n",
       "\n",
       "    1/22/20  1/23/20  1/24/20  1/25/20  1/26/20  1/27/20  ...  1/28/21  \\\n",
       "0         0        0        0        0        0        0  ...     2397   \n",
       "1         0        0        0        0        0        0  ...     1350   \n",
       "2         0        0        0        0        0        0  ...     2881   \n",
       "3         0        0        0        0        0        0  ...      100   \n",
       "4         0        0        0        0        0        0  ...      464   \n",
       "5         0        0        0        0        0        0  ...        6   \n",
       "6         0        0        0        0        0        0  ...    47601   \n",
       "7         0        0        0        0        0        0  ...     3067   \n",
       "8         0        0        0        0        0        0  ...        3   \n",
       "9         0        0        0        0        0        0  ...       54   \n",
       "10        0        0        0        0        0        0  ...        0   \n",
       "11        0        0        0        0        0        0  ...        6   \n",
       "12        0        0        0        0        0        0  ...        4   \n",
       "13        0        0        0        0        0        0  ...       13   \n",
       "14        0        0        0        0        0        0  ...      820   \n",
       "\n",
       "    1/29/21  1/30/21  1/31/21  2/1/21  2/2/21  2/3/21  2/4/21  2/5/21  2/6/21  \n",
       "0      2399     2400     2400    2404    2405    2406    2407    2407    2408  \n",
       "1      1358     1369     1380    1393    1398    1404    1418    1433    1446  \n",
       "2      2884     2888     2891    2894    2898    2900    2904    2909    2909  \n",
       "3       100      101      101     101     102     103     103     104     105  \n",
       "4       464      464      466     466     468     470     473     474     475  \n",
       "5         6        7        7       7       7       7       7       7       7  \n",
       "6     47775    47931    47974   48249   48426   48539   48700   48985   49110  \n",
       "7      3069     3071     3080    3084    3089    3096    3107    3109    3114  \n",
       "8         3        3        3       3       3       3       3       3       3  \n",
       "9        54       54       54      54      54      54      54      54      54  \n",
       "10        0        0        0       0       0       0       0       0       0  \n",
       "11        6        6        6       6       6       6       6       6       6  \n",
       "12        4        4        4       4       4       4       4       4       4  \n",
       "13       13       13       13      13      13      13      13      13      13  \n",
       "14      820      820      820     820     820     820     820     820     820  \n",
       "\n",
       "[15 rows x 386 columns]"
      ],
      "text/html": "<div>\n<style scoped>\n    .dataframe tbody tr th:only-of-type {\n        vertical-align: middle;\n    }\n\n    .dataframe tbody tr th {\n        vertical-align: top;\n    }\n\n    .dataframe thead th {\n        text-align: right;\n    }\n</style>\n<table border=\"1\" class=\"dataframe\">\n  <thead>\n    <tr style=\"text-align: right;\">\n      <th></th>\n      <th>Province/State</th>\n      <th>Country/Region</th>\n      <th>Lat</th>\n      <th>Long</th>\n      <th>1/22/20</th>\n      <th>1/23/20</th>\n      <th>1/24/20</th>\n      <th>1/25/20</th>\n      <th>1/26/20</th>\n      <th>1/27/20</th>\n      <th>...</th>\n      <th>1/28/21</th>\n      <th>1/29/21</th>\n      <th>1/30/21</th>\n      <th>1/31/21</th>\n      <th>2/1/21</th>\n      <th>2/2/21</th>\n      <th>2/3/21</th>\n      <th>2/4/21</th>\n      <th>2/5/21</th>\n      <th>2/6/21</th>\n    </tr>\n  </thead>\n  <tbody>\n    <tr>\n      <th>0</th>\n      <td>NaN</td>\n      <td>Afghanistan</td>\n      <td>33.93911</td>\n      <td>67.709953</td>\n      <td>0</td>\n      <td>0</td>\n      <td>0</td>\n      <td>0</td>\n      <td>0</td>\n      <td>0</td>\n      <td>...</td>\n      <td>2397</td>\n      <td>2399</td>\n      <td>2400</td>\n      <td>2400</td>\n      <td>2404</td>\n      <td>2405</td>\n      <td>2406</td>\n      <td>2407</td>\n      <td>2407</td>\n      <td>2408</td>\n    </tr>\n    <tr>\n      <th>1</th>\n      <td>NaN</td>\n      <td>Albania</td>\n      <td>41.15330</td>\n      <td>20.168300</td>\n      <td>0</td>\n      <td>0</td>\n      <td>0</td>\n      <td>0</td>\n      <td>0</td>\n      <td>0</td>\n      <td>...</td>\n      <td>1350</td>\n      <td>1358</td>\n      <td>1369</td>\n      <td>1380</td>\n      <td>1393</td>\n      <td>1398</td>\n      <td>1404</td>\n      <td>1418</td>\n      <td>1433</td>\n      <td>1446</td>\n    </tr>\n    <tr>\n      <th>2</th>\n      <td>NaN</td>\n      <td>Algeria</td>\n      <td>28.03390</td>\n      <td>1.659600</td>\n      <td>0</td>\n      <td>0</td>\n      <td>0</td>\n      <td>0</td>\n      <td>0</td>\n      <td>0</td>\n      <td>...</td>\n      <td>2881</td>\n      <td>2884</td>\n      <td>2888</td>\n      <td>2891</td>\n      <td>2894</td>\n      <td>2898</td>\n      <td>2900</td>\n      <td>2904</td>\n      <td>2909</td>\n      <td>2909</td>\n    </tr>\n    <tr>\n      <th>3</th>\n      <td>NaN</td>\n      <td>Andorra</td>\n      <td>42.50630</td>\n      <td>1.521800</td>\n      <td>0</td>\n      <td>0</td>\n      <td>0</td>\n      <td>0</td>\n      <td>0</td>\n      <td>0</td>\n      <td>...</td>\n      <td>100</td>\n      <td>100</td>\n      <td>101</td>\n      <td>101</td>\n      <td>101</td>\n      <td>102</td>\n      <td>103</td>\n      <td>103</td>\n      <td>104</td>\n      <td>105</td>\n    </tr>\n    <tr>\n      <th>4</th>\n      <td>NaN</td>\n      <td>Angola</td>\n      <td>-11.20270</td>\n      <td>17.873900</td>\n      <td>0</td>\n      <td>0</td>\n      <td>0</td>\n      <td>0</td>\n      <td>0</td>\n      <td>0</td>\n      <td>...</td>\n      <td>464</td>\n      <td>464</td>\n      <td>464</td>\n      <td>466</td>\n      <td>466</td>\n      <td>468</td>\n      <td>470</td>\n      <td>473</td>\n      <td>474</td>\n      <td>475</td>\n    </tr>\n    <tr>\n      <th>5</th>\n      <td>NaN</td>\n      <td>Antigua and Barbuda</td>\n      <td>17.06080</td>\n      <td>-61.796400</td>\n      <td>0</td>\n      <td>0</td>\n      <td>0</td>\n      <td>0</td>\n      <td>0</td>\n      <td>0</td>\n      <td>...</td>\n      <td>6</td>\n      <td>6</td>\n      <td>7</td>\n      <td>7</td>\n      <td>7</td>\n      <td>7</td>\n      <td>7</td>\n      <td>7</td>\n      <td>7</td>\n      <td>7</td>\n    </tr>\n    <tr>\n      <th>6</th>\n      <td>NaN</td>\n      <td>Argentina</td>\n      <td>-38.41610</td>\n      <td>-63.616700</td>\n      <td>0</td>\n      <td>0</td>\n      <td>0</td>\n      <td>0</td>\n      <td>0</td>\n      <td>0</td>\n      <td>...</td>\n      <td>47601</td>\n      <td>47775</td>\n      <td>47931</td>\n      <td>47974</td>\n      <td>48249</td>\n      <td>48426</td>\n      <td>48539</td>\n      <td>48700</td>\n      <td>48985</td>\n      <td>49110</td>\n    </tr>\n    <tr>\n      <th>7</th>\n      <td>NaN</td>\n      <td>Armenia</td>\n      <td>40.06910</td>\n      <td>45.038200</td>\n      <td>0</td>\n      <td>0</td>\n      <td>0</td>\n      <td>0</td>\n      <td>0</td>\n      <td>0</td>\n      <td>...</td>\n      <td>3067</td>\n      <td>3069</td>\n      <td>3071</td>\n      <td>3080</td>\n      <td>3084</td>\n      <td>3089</td>\n      <td>3096</td>\n      <td>3107</td>\n      <td>3109</td>\n      <td>3114</td>\n    </tr>\n    <tr>\n      <th>8</th>\n      <td>Australian Capital Territory</td>\n      <td>Australia</td>\n      <td>-35.47350</td>\n      <td>149.012400</td>\n      <td>0</td>\n      <td>0</td>\n      <td>0</td>\n      <td>0</td>\n      <td>0</td>\n      <td>0</td>\n      <td>...</td>\n      <td>3</td>\n      <td>3</td>\n      <td>3</td>\n      <td>3</td>\n      <td>3</td>\n      <td>3</td>\n      <td>3</td>\n      <td>3</td>\n      <td>3</td>\n      <td>3</td>\n    </tr>\n    <tr>\n      <th>9</th>\n      <td>New South Wales</td>\n      <td>Australia</td>\n      <td>-33.86880</td>\n      <td>151.209300</td>\n      <td>0</td>\n      <td>0</td>\n      <td>0</td>\n      <td>0</td>\n      <td>0</td>\n      <td>0</td>\n      <td>...</td>\n      <td>54</td>\n      <td>54</td>\n      <td>54</td>\n      <td>54</td>\n      <td>54</td>\n      <td>54</td>\n      <td>54</td>\n      <td>54</td>\n      <td>54</td>\n      <td>54</td>\n    </tr>\n    <tr>\n      <th>10</th>\n      <td>Northern Territory</td>\n      <td>Australia</td>\n      <td>-12.46340</td>\n      <td>130.845600</td>\n      <td>0</td>\n      <td>0</td>\n      <td>0</td>\n      <td>0</td>\n      <td>0</td>\n      <td>0</td>\n      <td>...</td>\n      <td>0</td>\n      <td>0</td>\n      <td>0</td>\n      <td>0</td>\n      <td>0</td>\n      <td>0</td>\n      <td>0</td>\n      <td>0</td>\n      <td>0</td>\n      <td>0</td>\n    </tr>\n    <tr>\n      <th>11</th>\n      <td>Queensland</td>\n      <td>Australia</td>\n      <td>-27.46980</td>\n      <td>153.025100</td>\n      <td>0</td>\n      <td>0</td>\n      <td>0</td>\n      <td>0</td>\n      <td>0</td>\n      <td>0</td>\n      <td>...</td>\n      <td>6</td>\n      <td>6</td>\n      <td>6</td>\n      <td>6</td>\n      <td>6</td>\n      <td>6</td>\n      <td>6</td>\n      <td>6</td>\n      <td>6</td>\n      <td>6</td>\n    </tr>\n    <tr>\n      <th>12</th>\n      <td>South Australia</td>\n      <td>Australia</td>\n      <td>-34.92850</td>\n      <td>138.600700</td>\n      <td>0</td>\n      <td>0</td>\n      <td>0</td>\n      <td>0</td>\n      <td>0</td>\n      <td>0</td>\n      <td>...</td>\n      <td>4</td>\n      <td>4</td>\n      <td>4</td>\n      <td>4</td>\n      <td>4</td>\n      <td>4</td>\n      <td>4</td>\n      <td>4</td>\n      <td>4</td>\n      <td>4</td>\n    </tr>\n    <tr>\n      <th>13</th>\n      <td>Tasmania</td>\n      <td>Australia</td>\n      <td>-42.88210</td>\n      <td>147.327200</td>\n      <td>0</td>\n      <td>0</td>\n      <td>0</td>\n      <td>0</td>\n      <td>0</td>\n      <td>0</td>\n      <td>...</td>\n      <td>13</td>\n      <td>13</td>\n      <td>13</td>\n      <td>13</td>\n      <td>13</td>\n      <td>13</td>\n      <td>13</td>\n      <td>13</td>\n      <td>13</td>\n      <td>13</td>\n    </tr>\n    <tr>\n      <th>14</th>\n      <td>Victoria</td>\n      <td>Australia</td>\n      <td>-37.81360</td>\n      <td>144.963100</td>\n      <td>0</td>\n      <td>0</td>\n      <td>0</td>\n      <td>0</td>\n      <td>0</td>\n      <td>0</td>\n      <td>...</td>\n      <td>820</td>\n      <td>820</td>\n      <td>820</td>\n      <td>820</td>\n      <td>820</td>\n      <td>820</td>\n      <td>820</td>\n      <td>820</td>\n      <td>820</td>\n      <td>820</td>\n    </tr>\n  </tbody>\n</table>\n<p>15 rows × 386 columns</p>\n</div>"
     },
     "metadata": {},
     "execution_count": 63
    }
   ],
   "source": [
    "data_deths.head(15)\n"
   ]
  },
  {
   "cell_type": "code",
   "execution_count": 64,
   "metadata": {},
   "outputs": [],
   "source": [
    "china_confirmed = data_confirmed[data_confirmed['Country/Region'] == 'China']"
   ]
  },
  {
   "cell_type": "code",
   "execution_count": 65,
   "metadata": {},
   "outputs": [
    {
     "output_type": "execute_result",
     "data": {
      "text/plain": [
       "    Province/State Country/Region      Lat      Long  1/22/20  1/23/20  \\\n",
       "58           Anhui          China  31.8257  117.2264        1        9   \n",
       "59         Beijing          China  40.1824  116.4142       14       22   \n",
       "60       Chongqing          China  30.0572  107.8740        6        9   \n",
       "61          Fujian          China  26.0789  117.9874        1        5   \n",
       "62           Gansu          China  35.7518  104.2861        0        2   \n",
       "63       Guangdong          China  23.3417  113.4244       26       32   \n",
       "64         Guangxi          China  23.8298  108.7881        2        5   \n",
       "65         Guizhou          China  26.8154  106.8748        1        3   \n",
       "66          Hainan          China  19.1959  109.7453        4        5   \n",
       "67           Hebei          China  39.5490  116.1306        1        1   \n",
       "68    Heilongjiang          China  47.8620  127.7615        0        2   \n",
       "69           Henan          China  37.8957  114.9042        5        5   \n",
       "70       Hong Kong          China  22.3000  114.2000        0        2   \n",
       "71           Hubei          China  30.9756  112.2707      444      444   \n",
       "72           Hunan          China  27.6104  111.7088        4        9   \n",
       "73  Inner Mongolia          China  44.0935  113.9448        0        0   \n",
       "74         Jiangsu          China  32.9711  119.4550        1        5   \n",
       "75         Jiangxi          China  27.6140  115.7221        2        7   \n",
       "76           Jilin          China  43.6661  126.1923        0        1   \n",
       "77        Liaoning          China  41.2956  122.6085        2        3   \n",
       "78           Macau          China  22.1667  113.5500        1        2   \n",
       "79         Ningxia          China  37.2692  106.1655        1        1   \n",
       "80         Qinghai          China  35.7452   95.9956        0        0   \n",
       "81         Shaanxi          China  35.1917  108.8701        0        3   \n",
       "82        Shandong          China  36.3427  118.1498        2        6   \n",
       "83        Shanghai          China  31.2020  121.4491        9       16   \n",
       "84          Shanxi          China  37.5777  112.2922        1        1   \n",
       "85         Sichuan          China  30.6171  102.7103        5        8   \n",
       "86         Tianjin          China  39.3054  117.3230        4        4   \n",
       "87           Tibet          China  31.6927   88.0924        0        0   \n",
       "88        Xinjiang          China  41.1129   85.2401        0        2   \n",
       "89          Yunnan          China  24.9740  101.4870        1        2   \n",
       "90        Zhejiang          China  29.1832  120.0934       10       27   \n",
       "\n",
       "    1/24/20  1/25/20  1/26/20  1/27/20  ...  1/28/21  1/29/21  1/30/21  \\\n",
       "58       15       39       60       70  ...      994      994      994   \n",
       "59       36       41       68       80  ...     1035     1036     1036   \n",
       "60       27       57       75      110  ...      591      591      591   \n",
       "61       10       18       35       59  ...      536      539      541   \n",
       "62        2        4        7       14  ...      187      187      187   \n",
       "63       53       78      111      151  ...     2121     2121     2124   \n",
       "64       23       23       36       46  ...      267      267      267   \n",
       "65        3        4        5        7  ...      147      147      147   \n",
       "66        8       19       22       33  ...      171      171      171   \n",
       "67        2        8       13       18  ...     1310     1311     1312   \n",
       "68        4        9       15       21  ...     1525     1552     1561   \n",
       "69        9       32       83      128  ...     1303     1303     1303   \n",
       "70        2        5        8        8  ...    10321    10371    10399   \n",
       "71      549      761     1058     1423  ...    68150    68150    68150   \n",
       "72       24       43       69      100  ...     1029     1031     1031   \n",
       "73        1        7        7       11  ...      366      366      366   \n",
       "74        9       18       33       47  ...      693      693      694   \n",
       "75       18       18       36       72  ...      935      935      935   \n",
       "76        3        4        4        6  ...      473      478      541   \n",
       "77        4       17       21       27  ...      397      397      400   \n",
       "78        2        2        5        6  ...       47       47       47   \n",
       "79        2        3        4        7  ...       75       75       75   \n",
       "80        0        1        1        6  ...       18       18       18   \n",
       "81        5       15       22       35  ...      536      537      539   \n",
       "82       15       27       46       75  ...      866      866      866   \n",
       "83       20       33       40       53  ...     1676     1687     1694   \n",
       "84        1        6        9       13  ...      238      238      238   \n",
       "85       15       28       44       69  ...      868      869      870   \n",
       "86        8       10       14       23  ...      343      343      343   \n",
       "87        0        0        0        0  ...        1        1        1   \n",
       "88        2        3        4        5  ...      980      980      980   \n",
       "89        5       11       16       26  ...      231      231      231   \n",
       "90       43       62      104      128  ...     1316     1316     1316   \n",
       "\n",
       "    1/31/21  2/1/21  2/2/21  2/3/21  2/4/21  2/5/21  2/6/21  \n",
       "58      994     994     994     994     994     994     994  \n",
       "59     1038    1039    1039    1044    1044    1044    1046  \n",
       "60      591     591     591     591     591     591     591  \n",
       "61      541     541     541     544     545     545     545  \n",
       "62      187     187     187     187     187     187     187  \n",
       "63     2125    2127    2129    2132    2134    2135    2137  \n",
       "64      267     267     267     267     267     267     267  \n",
       "65      147     147     147     147     147     147     147  \n",
       "66      171     171     171     171     171     171     171  \n",
       "67     1313    1313    1314    1316    1316    1316    1316  \n",
       "68     1583    1591    1597    1601    1606    1609    1609  \n",
       "69     1303    1303    1303    1303    1303    1303    1303  \n",
       "70    10452   10486   10511   10530   10552   10589   10608  \n",
       "71    68150   68150   68150   68150   68150   68150   68150  \n",
       "72     1032    1032    1032    1032    1032    1032    1033  \n",
       "73      366     366     366     366     366     366     366  \n",
       "74      694     697     698     698     699     699     701  \n",
       "75      935     935     935     935     935     935     935  \n",
       "76      551     555     563     571     571     572     573  \n",
       "77      400     402     402     402     402     402     402  \n",
       "78       47      47      47      47      47      48      48  \n",
       "79       75      75      75      75      75      75      75  \n",
       "80       18      18      18      18      18      18      18  \n",
       "81      539     540     541     541     541     542     542  \n",
       "82      866     866     866     866     866     866     866  \n",
       "83     1698    1705    1709    1714    1724    1729    1732  \n",
       "84      238     239     239     239     239     239     239  \n",
       "85      870     871     873     873     873     873     873  \n",
       "86      344     344     344     344     345     346     346  \n",
       "87        1       1       1       1       1       1       1  \n",
       "88      980     980     980     980     980     980     980  \n",
       "89      231     231     231     231     231     231     231  \n",
       "90     1316    1316    1316    1316    1316    1316    1316  \n",
       "\n",
       "[33 rows x 386 columns]"
      ],
      "text/html": "<div>\n<style scoped>\n    .dataframe tbody tr th:only-of-type {\n        vertical-align: middle;\n    }\n\n    .dataframe tbody tr th {\n        vertical-align: top;\n    }\n\n    .dataframe thead th {\n        text-align: right;\n    }\n</style>\n<table border=\"1\" class=\"dataframe\">\n  <thead>\n    <tr style=\"text-align: right;\">\n      <th></th>\n      <th>Province/State</th>\n      <th>Country/Region</th>\n      <th>Lat</th>\n      <th>Long</th>\n      <th>1/22/20</th>\n      <th>1/23/20</th>\n      <th>1/24/20</th>\n      <th>1/25/20</th>\n      <th>1/26/20</th>\n      <th>1/27/20</th>\n      <th>...</th>\n      <th>1/28/21</th>\n      <th>1/29/21</th>\n      <th>1/30/21</th>\n      <th>1/31/21</th>\n      <th>2/1/21</th>\n      <th>2/2/21</th>\n      <th>2/3/21</th>\n      <th>2/4/21</th>\n      <th>2/5/21</th>\n      <th>2/6/21</th>\n    </tr>\n  </thead>\n  <tbody>\n    <tr>\n      <th>58</th>\n      <td>Anhui</td>\n      <td>China</td>\n      <td>31.8257</td>\n      <td>117.2264</td>\n      <td>1</td>\n      <td>9</td>\n      <td>15</td>\n      <td>39</td>\n      <td>60</td>\n      <td>70</td>\n      <td>...</td>\n      <td>994</td>\n      <td>994</td>\n      <td>994</td>\n      <td>994</td>\n      <td>994</td>\n      <td>994</td>\n      <td>994</td>\n      <td>994</td>\n      <td>994</td>\n      <td>994</td>\n    </tr>\n    <tr>\n      <th>59</th>\n      <td>Beijing</td>\n      <td>China</td>\n      <td>40.1824</td>\n      <td>116.4142</td>\n      <td>14</td>\n      <td>22</td>\n      <td>36</td>\n      <td>41</td>\n      <td>68</td>\n      <td>80</td>\n      <td>...</td>\n      <td>1035</td>\n      <td>1036</td>\n      <td>1036</td>\n      <td>1038</td>\n      <td>1039</td>\n      <td>1039</td>\n      <td>1044</td>\n      <td>1044</td>\n      <td>1044</td>\n      <td>1046</td>\n    </tr>\n    <tr>\n      <th>60</th>\n      <td>Chongqing</td>\n      <td>China</td>\n      <td>30.0572</td>\n      <td>107.8740</td>\n      <td>6</td>\n      <td>9</td>\n      <td>27</td>\n      <td>57</td>\n      <td>75</td>\n      <td>110</td>\n      <td>...</td>\n      <td>591</td>\n      <td>591</td>\n      <td>591</td>\n      <td>591</td>\n      <td>591</td>\n      <td>591</td>\n      <td>591</td>\n      <td>591</td>\n      <td>591</td>\n      <td>591</td>\n    </tr>\n    <tr>\n      <th>61</th>\n      <td>Fujian</td>\n      <td>China</td>\n      <td>26.0789</td>\n      <td>117.9874</td>\n      <td>1</td>\n      <td>5</td>\n      <td>10</td>\n      <td>18</td>\n      <td>35</td>\n      <td>59</td>\n      <td>...</td>\n      <td>536</td>\n      <td>539</td>\n      <td>541</td>\n      <td>541</td>\n      <td>541</td>\n      <td>541</td>\n      <td>544</td>\n      <td>545</td>\n      <td>545</td>\n      <td>545</td>\n    </tr>\n    <tr>\n      <th>62</th>\n      <td>Gansu</td>\n      <td>China</td>\n      <td>35.7518</td>\n      <td>104.2861</td>\n      <td>0</td>\n      <td>2</td>\n      <td>2</td>\n      <td>4</td>\n      <td>7</td>\n      <td>14</td>\n      <td>...</td>\n      <td>187</td>\n      <td>187</td>\n      <td>187</td>\n      <td>187</td>\n      <td>187</td>\n      <td>187</td>\n      <td>187</td>\n      <td>187</td>\n      <td>187</td>\n      <td>187</td>\n    </tr>\n    <tr>\n      <th>63</th>\n      <td>Guangdong</td>\n      <td>China</td>\n      <td>23.3417</td>\n      <td>113.4244</td>\n      <td>26</td>\n      <td>32</td>\n      <td>53</td>\n      <td>78</td>\n      <td>111</td>\n      <td>151</td>\n      <td>...</td>\n      <td>2121</td>\n      <td>2121</td>\n      <td>2124</td>\n      <td>2125</td>\n      <td>2127</td>\n      <td>2129</td>\n      <td>2132</td>\n      <td>2134</td>\n      <td>2135</td>\n      <td>2137</td>\n    </tr>\n    <tr>\n      <th>64</th>\n      <td>Guangxi</td>\n      <td>China</td>\n      <td>23.8298</td>\n      <td>108.7881</td>\n      <td>2</td>\n      <td>5</td>\n      <td>23</td>\n      <td>23</td>\n      <td>36</td>\n      <td>46</td>\n      <td>...</td>\n      <td>267</td>\n      <td>267</td>\n      <td>267</td>\n      <td>267</td>\n      <td>267</td>\n      <td>267</td>\n      <td>267</td>\n      <td>267</td>\n      <td>267</td>\n      <td>267</td>\n    </tr>\n    <tr>\n      <th>65</th>\n      <td>Guizhou</td>\n      <td>China</td>\n      <td>26.8154</td>\n      <td>106.8748</td>\n      <td>1</td>\n      <td>3</td>\n      <td>3</td>\n      <td>4</td>\n      <td>5</td>\n      <td>7</td>\n      <td>...</td>\n      <td>147</td>\n      <td>147</td>\n      <td>147</td>\n      <td>147</td>\n      <td>147</td>\n      <td>147</td>\n      <td>147</td>\n      <td>147</td>\n      <td>147</td>\n      <td>147</td>\n    </tr>\n    <tr>\n      <th>66</th>\n      <td>Hainan</td>\n      <td>China</td>\n      <td>19.1959</td>\n      <td>109.7453</td>\n      <td>4</td>\n      <td>5</td>\n      <td>8</td>\n      <td>19</td>\n      <td>22</td>\n      <td>33</td>\n      <td>...</td>\n      <td>171</td>\n      <td>171</td>\n      <td>171</td>\n      <td>171</td>\n      <td>171</td>\n      <td>171</td>\n      <td>171</td>\n      <td>171</td>\n      <td>171</td>\n      <td>171</td>\n    </tr>\n    <tr>\n      <th>67</th>\n      <td>Hebei</td>\n      <td>China</td>\n      <td>39.5490</td>\n      <td>116.1306</td>\n      <td>1</td>\n      <td>1</td>\n      <td>2</td>\n      <td>8</td>\n      <td>13</td>\n      <td>18</td>\n      <td>...</td>\n      <td>1310</td>\n      <td>1311</td>\n      <td>1312</td>\n      <td>1313</td>\n      <td>1313</td>\n      <td>1314</td>\n      <td>1316</td>\n      <td>1316</td>\n      <td>1316</td>\n      <td>1316</td>\n    </tr>\n    <tr>\n      <th>68</th>\n      <td>Heilongjiang</td>\n      <td>China</td>\n      <td>47.8620</td>\n      <td>127.7615</td>\n      <td>0</td>\n      <td>2</td>\n      <td>4</td>\n      <td>9</td>\n      <td>15</td>\n      <td>21</td>\n      <td>...</td>\n      <td>1525</td>\n      <td>1552</td>\n      <td>1561</td>\n      <td>1583</td>\n      <td>1591</td>\n      <td>1597</td>\n      <td>1601</td>\n      <td>1606</td>\n      <td>1609</td>\n      <td>1609</td>\n    </tr>\n    <tr>\n      <th>69</th>\n      <td>Henan</td>\n      <td>China</td>\n      <td>37.8957</td>\n      <td>114.9042</td>\n      <td>5</td>\n      <td>5</td>\n      <td>9</td>\n      <td>32</td>\n      <td>83</td>\n      <td>128</td>\n      <td>...</td>\n      <td>1303</td>\n      <td>1303</td>\n      <td>1303</td>\n      <td>1303</td>\n      <td>1303</td>\n      <td>1303</td>\n      <td>1303</td>\n      <td>1303</td>\n      <td>1303</td>\n      <td>1303</td>\n    </tr>\n    <tr>\n      <th>70</th>\n      <td>Hong Kong</td>\n      <td>China</td>\n      <td>22.3000</td>\n      <td>114.2000</td>\n      <td>0</td>\n      <td>2</td>\n      <td>2</td>\n      <td>5</td>\n      <td>8</td>\n      <td>8</td>\n      <td>...</td>\n      <td>10321</td>\n      <td>10371</td>\n      <td>10399</td>\n      <td>10452</td>\n      <td>10486</td>\n      <td>10511</td>\n      <td>10530</td>\n      <td>10552</td>\n      <td>10589</td>\n      <td>10608</td>\n    </tr>\n    <tr>\n      <th>71</th>\n      <td>Hubei</td>\n      <td>China</td>\n      <td>30.9756</td>\n      <td>112.2707</td>\n      <td>444</td>\n      <td>444</td>\n      <td>549</td>\n      <td>761</td>\n      <td>1058</td>\n      <td>1423</td>\n      <td>...</td>\n      <td>68150</td>\n      <td>68150</td>\n      <td>68150</td>\n      <td>68150</td>\n      <td>68150</td>\n      <td>68150</td>\n      <td>68150</td>\n      <td>68150</td>\n      <td>68150</td>\n      <td>68150</td>\n    </tr>\n    <tr>\n      <th>72</th>\n      <td>Hunan</td>\n      <td>China</td>\n      <td>27.6104</td>\n      <td>111.7088</td>\n      <td>4</td>\n      <td>9</td>\n      <td>24</td>\n      <td>43</td>\n      <td>69</td>\n      <td>100</td>\n      <td>...</td>\n      <td>1029</td>\n      <td>1031</td>\n      <td>1031</td>\n      <td>1032</td>\n      <td>1032</td>\n      <td>1032</td>\n      <td>1032</td>\n      <td>1032</td>\n      <td>1032</td>\n      <td>1033</td>\n    </tr>\n    <tr>\n      <th>73</th>\n      <td>Inner Mongolia</td>\n      <td>China</td>\n      <td>44.0935</td>\n      <td>113.9448</td>\n      <td>0</td>\n      <td>0</td>\n      <td>1</td>\n      <td>7</td>\n      <td>7</td>\n      <td>11</td>\n      <td>...</td>\n      <td>366</td>\n      <td>366</td>\n      <td>366</td>\n      <td>366</td>\n      <td>366</td>\n      <td>366</td>\n      <td>366</td>\n      <td>366</td>\n      <td>366</td>\n      <td>366</td>\n    </tr>\n    <tr>\n      <th>74</th>\n      <td>Jiangsu</td>\n      <td>China</td>\n      <td>32.9711</td>\n      <td>119.4550</td>\n      <td>1</td>\n      <td>5</td>\n      <td>9</td>\n      <td>18</td>\n      <td>33</td>\n      <td>47</td>\n      <td>...</td>\n      <td>693</td>\n      <td>693</td>\n      <td>694</td>\n      <td>694</td>\n      <td>697</td>\n      <td>698</td>\n      <td>698</td>\n      <td>699</td>\n      <td>699</td>\n      <td>701</td>\n    </tr>\n    <tr>\n      <th>75</th>\n      <td>Jiangxi</td>\n      <td>China</td>\n      <td>27.6140</td>\n      <td>115.7221</td>\n      <td>2</td>\n      <td>7</td>\n      <td>18</td>\n      <td>18</td>\n      <td>36</td>\n      <td>72</td>\n      <td>...</td>\n      <td>935</td>\n      <td>935</td>\n      <td>935</td>\n      <td>935</td>\n      <td>935</td>\n      <td>935</td>\n      <td>935</td>\n      <td>935</td>\n      <td>935</td>\n      <td>935</td>\n    </tr>\n    <tr>\n      <th>76</th>\n      <td>Jilin</td>\n      <td>China</td>\n      <td>43.6661</td>\n      <td>126.1923</td>\n      <td>0</td>\n      <td>1</td>\n      <td>3</td>\n      <td>4</td>\n      <td>4</td>\n      <td>6</td>\n      <td>...</td>\n      <td>473</td>\n      <td>478</td>\n      <td>541</td>\n      <td>551</td>\n      <td>555</td>\n      <td>563</td>\n      <td>571</td>\n      <td>571</td>\n      <td>572</td>\n      <td>573</td>\n    </tr>\n    <tr>\n      <th>77</th>\n      <td>Liaoning</td>\n      <td>China</td>\n      <td>41.2956</td>\n      <td>122.6085</td>\n      <td>2</td>\n      <td>3</td>\n      <td>4</td>\n      <td>17</td>\n      <td>21</td>\n      <td>27</td>\n      <td>...</td>\n      <td>397</td>\n      <td>397</td>\n      <td>400</td>\n      <td>400</td>\n      <td>402</td>\n      <td>402</td>\n      <td>402</td>\n      <td>402</td>\n      <td>402</td>\n      <td>402</td>\n    </tr>\n    <tr>\n      <th>78</th>\n      <td>Macau</td>\n      <td>China</td>\n      <td>22.1667</td>\n      <td>113.5500</td>\n      <td>1</td>\n      <td>2</td>\n      <td>2</td>\n      <td>2</td>\n      <td>5</td>\n      <td>6</td>\n      <td>...</td>\n      <td>47</td>\n      <td>47</td>\n      <td>47</td>\n      <td>47</td>\n      <td>47</td>\n      <td>47</td>\n      <td>47</td>\n      <td>47</td>\n      <td>48</td>\n      <td>48</td>\n    </tr>\n    <tr>\n      <th>79</th>\n      <td>Ningxia</td>\n      <td>China</td>\n      <td>37.2692</td>\n      <td>106.1655</td>\n      <td>1</td>\n      <td>1</td>\n      <td>2</td>\n      <td>3</td>\n      <td>4</td>\n      <td>7</td>\n      <td>...</td>\n      <td>75</td>\n      <td>75</td>\n      <td>75</td>\n      <td>75</td>\n      <td>75</td>\n      <td>75</td>\n      <td>75</td>\n      <td>75</td>\n      <td>75</td>\n      <td>75</td>\n    </tr>\n    <tr>\n      <th>80</th>\n      <td>Qinghai</td>\n      <td>China</td>\n      <td>35.7452</td>\n      <td>95.9956</td>\n      <td>0</td>\n      <td>0</td>\n      <td>0</td>\n      <td>1</td>\n      <td>1</td>\n      <td>6</td>\n      <td>...</td>\n      <td>18</td>\n      <td>18</td>\n      <td>18</td>\n      <td>18</td>\n      <td>18</td>\n      <td>18</td>\n      <td>18</td>\n      <td>18</td>\n      <td>18</td>\n      <td>18</td>\n    </tr>\n    <tr>\n      <th>81</th>\n      <td>Shaanxi</td>\n      <td>China</td>\n      <td>35.1917</td>\n      <td>108.8701</td>\n      <td>0</td>\n      <td>3</td>\n      <td>5</td>\n      <td>15</td>\n      <td>22</td>\n      <td>35</td>\n      <td>...</td>\n      <td>536</td>\n      <td>537</td>\n      <td>539</td>\n      <td>539</td>\n      <td>540</td>\n      <td>541</td>\n      <td>541</td>\n      <td>541</td>\n      <td>542</td>\n      <td>542</td>\n    </tr>\n    <tr>\n      <th>82</th>\n      <td>Shandong</td>\n      <td>China</td>\n      <td>36.3427</td>\n      <td>118.1498</td>\n      <td>2</td>\n      <td>6</td>\n      <td>15</td>\n      <td>27</td>\n      <td>46</td>\n      <td>75</td>\n      <td>...</td>\n      <td>866</td>\n      <td>866</td>\n      <td>866</td>\n      <td>866</td>\n      <td>866</td>\n      <td>866</td>\n      <td>866</td>\n      <td>866</td>\n      <td>866</td>\n      <td>866</td>\n    </tr>\n    <tr>\n      <th>83</th>\n      <td>Shanghai</td>\n      <td>China</td>\n      <td>31.2020</td>\n      <td>121.4491</td>\n      <td>9</td>\n      <td>16</td>\n      <td>20</td>\n      <td>33</td>\n      <td>40</td>\n      <td>53</td>\n      <td>...</td>\n      <td>1676</td>\n      <td>1687</td>\n      <td>1694</td>\n      <td>1698</td>\n      <td>1705</td>\n      <td>1709</td>\n      <td>1714</td>\n      <td>1724</td>\n      <td>1729</td>\n      <td>1732</td>\n    </tr>\n    <tr>\n      <th>84</th>\n      <td>Shanxi</td>\n      <td>China</td>\n      <td>37.5777</td>\n      <td>112.2922</td>\n      <td>1</td>\n      <td>1</td>\n      <td>1</td>\n      <td>6</td>\n      <td>9</td>\n      <td>13</td>\n      <td>...</td>\n      <td>238</td>\n      <td>238</td>\n      <td>238</td>\n      <td>238</td>\n      <td>239</td>\n      <td>239</td>\n      <td>239</td>\n      <td>239</td>\n      <td>239</td>\n      <td>239</td>\n    </tr>\n    <tr>\n      <th>85</th>\n      <td>Sichuan</td>\n      <td>China</td>\n      <td>30.6171</td>\n      <td>102.7103</td>\n      <td>5</td>\n      <td>8</td>\n      <td>15</td>\n      <td>28</td>\n      <td>44</td>\n      <td>69</td>\n      <td>...</td>\n      <td>868</td>\n      <td>869</td>\n      <td>870</td>\n      <td>870</td>\n      <td>871</td>\n      <td>873</td>\n      <td>873</td>\n      <td>873</td>\n      <td>873</td>\n      <td>873</td>\n    </tr>\n    <tr>\n      <th>86</th>\n      <td>Tianjin</td>\n      <td>China</td>\n      <td>39.3054</td>\n      <td>117.3230</td>\n      <td>4</td>\n      <td>4</td>\n      <td>8</td>\n      <td>10</td>\n      <td>14</td>\n      <td>23</td>\n      <td>...</td>\n      <td>343</td>\n      <td>343</td>\n      <td>343</td>\n      <td>344</td>\n      <td>344</td>\n      <td>344</td>\n      <td>344</td>\n      <td>345</td>\n      <td>346</td>\n      <td>346</td>\n    </tr>\n    <tr>\n      <th>87</th>\n      <td>Tibet</td>\n      <td>China</td>\n      <td>31.6927</td>\n      <td>88.0924</td>\n      <td>0</td>\n      <td>0</td>\n      <td>0</td>\n      <td>0</td>\n      <td>0</td>\n      <td>0</td>\n      <td>...</td>\n      <td>1</td>\n      <td>1</td>\n      <td>1</td>\n      <td>1</td>\n      <td>1</td>\n      <td>1</td>\n      <td>1</td>\n      <td>1</td>\n      <td>1</td>\n      <td>1</td>\n    </tr>\n    <tr>\n      <th>88</th>\n      <td>Xinjiang</td>\n      <td>China</td>\n      <td>41.1129</td>\n      <td>85.2401</td>\n      <td>0</td>\n      <td>2</td>\n      <td>2</td>\n      <td>3</td>\n      <td>4</td>\n      <td>5</td>\n      <td>...</td>\n      <td>980</td>\n      <td>980</td>\n      <td>980</td>\n      <td>980</td>\n      <td>980</td>\n      <td>980</td>\n      <td>980</td>\n      <td>980</td>\n      <td>980</td>\n      <td>980</td>\n    </tr>\n    <tr>\n      <th>89</th>\n      <td>Yunnan</td>\n      <td>China</td>\n      <td>24.9740</td>\n      <td>101.4870</td>\n      <td>1</td>\n      <td>2</td>\n      <td>5</td>\n      <td>11</td>\n      <td>16</td>\n      <td>26</td>\n      <td>...</td>\n      <td>231</td>\n      <td>231</td>\n      <td>231</td>\n      <td>231</td>\n      <td>231</td>\n      <td>231</td>\n      <td>231</td>\n      <td>231</td>\n      <td>231</td>\n      <td>231</td>\n    </tr>\n    <tr>\n      <th>90</th>\n      <td>Zhejiang</td>\n      <td>China</td>\n      <td>29.1832</td>\n      <td>120.0934</td>\n      <td>10</td>\n      <td>27</td>\n      <td>43</td>\n      <td>62</td>\n      <td>104</td>\n      <td>128</td>\n      <td>...</td>\n      <td>1316</td>\n      <td>1316</td>\n      <td>1316</td>\n      <td>1316</td>\n      <td>1316</td>\n      <td>1316</td>\n      <td>1316</td>\n      <td>1316</td>\n      <td>1316</td>\n      <td>1316</td>\n    </tr>\n  </tbody>\n</table>\n<p>33 rows × 386 columns</p>\n</div>"
     },
     "metadata": {},
     "execution_count": 65
    }
   ],
   "source": [
    "china_confirmed"
   ]
  },
  {
   "cell_type": "code",
   "execution_count": 56,
   "metadata": {},
   "outputs": [
    {
     "output_type": "execute_result",
     "data": {
      "text/plain": [
       "                1/22/20  1/23/20  1/24/20  1/25/20  1/26/20  1/27/20  1/28/20  \\\n",
       "Country/Region                                                                  \n",
       "China               548      643      920     1406     2075     2877     5509   \n",
       "\n",
       "                1/29/20  1/30/20  1/31/20  ...  1/28/21  1/29/21  1/30/21  \\\n",
       "Country/Region                             ...                              \n",
       "China              6087     8141     9802  ...    99746    99848    99968   \n",
       "\n",
       "                1/31/21  2/1/21  2/2/21  2/3/21  2/4/21  2/5/21  2/6/21  \n",
       "Country/Region                                                           \n",
       "China            100063  100127  100177  100226  100268  100318  100348  \n",
       "\n",
       "[1 rows x 382 columns]"
      ],
      "text/html": "<div>\n<style scoped>\n    .dataframe tbody tr th:only-of-type {\n        vertical-align: middle;\n    }\n\n    .dataframe tbody tr th {\n        vertical-align: top;\n    }\n\n    .dataframe thead th {\n        text-align: right;\n    }\n</style>\n<table border=\"1\" class=\"dataframe\">\n  <thead>\n    <tr style=\"text-align: right;\">\n      <th></th>\n      <th>1/22/20</th>\n      <th>1/23/20</th>\n      <th>1/24/20</th>\n      <th>1/25/20</th>\n      <th>1/26/20</th>\n      <th>1/27/20</th>\n      <th>1/28/20</th>\n      <th>1/29/20</th>\n      <th>1/30/20</th>\n      <th>1/31/20</th>\n      <th>...</th>\n      <th>1/28/21</th>\n      <th>1/29/21</th>\n      <th>1/30/21</th>\n      <th>1/31/21</th>\n      <th>2/1/21</th>\n      <th>2/2/21</th>\n      <th>2/3/21</th>\n      <th>2/4/21</th>\n      <th>2/5/21</th>\n      <th>2/6/21</th>\n    </tr>\n    <tr>\n      <th>Country/Region</th>\n      <th></th>\n      <th></th>\n      <th></th>\n      <th></th>\n      <th></th>\n      <th></th>\n      <th></th>\n      <th></th>\n      <th></th>\n      <th></th>\n      <th></th>\n      <th></th>\n      <th></th>\n      <th></th>\n      <th></th>\n      <th></th>\n      <th></th>\n      <th></th>\n      <th></th>\n      <th></th>\n      <th></th>\n    </tr>\n  </thead>\n  <tbody>\n    <tr>\n      <th>China</th>\n      <td>548</td>\n      <td>643</td>\n      <td>920</td>\n      <td>1406</td>\n      <td>2075</td>\n      <td>2877</td>\n      <td>5509</td>\n      <td>6087</td>\n      <td>8141</td>\n      <td>9802</td>\n      <td>...</td>\n      <td>99746</td>\n      <td>99848</td>\n      <td>99968</td>\n      <td>100063</td>\n      <td>100127</td>\n      <td>100177</td>\n      <td>100226</td>\n      <td>100268</td>\n      <td>100318</td>\n      <td>100348</td>\n    </tr>\n  </tbody>\n</table>\n<p>1 rows × 382 columns</p>\n</div>"
     },
     "metadata": {},
     "execution_count": 56
    }
   ],
   "source": [
    "(china_confirmed.groupby(by=['Country/Region']).sum()).drop(['Lat','Long'], axis=1)"
   ]
  },
  {
   "cell_type": "code",
   "execution_count": 57,
   "metadata": {},
   "outputs": [],
   "source": [
    "%matplotlib inline"
   ]
  },
  {
   "cell_type": "code",
   "execution_count": 43,
   "metadata": {},
   "outputs": [
    {
     "output_type": "execute_result",
     "data": {
      "text/plain": [
       "                    1/22/20  1/23/20  1/24/20  1/25/20  1/26/20  1/27/20  \\\n",
       "Country/Region                                                             \n",
       "Afghanistan               0        0        0        0        0        0   \n",
       "Albania                   0        0        0        0        0        0   \n",
       "Algeria                   0        0        0        0        0        0   \n",
       "Andorra                   0        0        0        0        0        0   \n",
       "Angola                    0        0        0        0        0        0   \n",
       "...                     ...      ...      ...      ...      ...      ...   \n",
       "Vietnam                   0        2        2        2        2        2   \n",
       "West Bank and Gaza        0        0        0        0        0        0   \n",
       "Yemen                     0        0        0        0        0        0   \n",
       "Zambia                    0        0        0        0        0        0   \n",
       "Zimbabwe                  0        0        0        0        0        0   \n",
       "\n",
       "                    1/28/20  1/29/20  1/30/20  1/31/20  ...  1/27/21  1/28/21  \\\n",
       "Country/Region                                          ...                     \n",
       "Afghanistan               0        0        0        0  ...    54854    54891   \n",
       "Albania                   0        0        0        0  ...    74567    75454   \n",
       "Algeria                   0        0        0        0  ...   106359   106610   \n",
       "Andorra                   0        0        0        0  ...     9716     9779   \n",
       "Angola                    0        0        0        0  ...    19580    19672   \n",
       "...                     ...      ...      ...      ...  ...      ...      ...   \n",
       "Vietnam                   2        2        2        2  ...     1553     1651   \n",
       "West Bank and Gaza        0        0        0        0  ...   156996   157593   \n",
       "Yemen                     0        0        0        0  ...     2120     2120   \n",
       "Zambia                    0        0        0        0  ...    48911    50319   \n",
       "Zimbabwe                  0        0        0        0  ...    32304    32646   \n",
       "\n",
       "                    1/29/21  1/30/21  1/31/21  2/1/21  2/2/21  2/3/21  2/4/21  \\\n",
       "Country/Region                                                                  \n",
       "Afghanistan           54939    55008    55023   55059   55121   55174   55231   \n",
       "Albania               76350    77251    78127   78992   79934   80941   81993   \n",
       "Algeria              106887   107122   107339  107578  107841  108116  108381   \n",
       "Andorra                9837     9885     9937    9972   10017   10070   10137   \n",
       "Angola                19723    19782    19796   19829   19900   19937   19996   \n",
       "...                     ...      ...      ...     ...     ...     ...     ...   \n",
       "Vietnam                1657     1767     1817    1850    1882    1948    1957   \n",
       "West Bank and Gaza   158168   158559   158962  159443  159956  160426  161087   \n",
       "Yemen                  2120     2120     2121    2122    2122    2122    2122   \n",
       "Zambia                51624    53352    54217   55042   56233   57489   59003   \n",
       "Zimbabwe              32952    33273    33388   33548   33814   33964   34171   \n",
       "\n",
       "                    2/5/21  \n",
       "Country/Region              \n",
       "Afghanistan          55265  \n",
       "Albania              83082  \n",
       "Algeria             108629  \n",
       "Andorra              10172  \n",
       "Angola               20030  \n",
       "...                    ...  \n",
       "Vietnam               1976  \n",
       "West Bank and Gaza  161559  \n",
       "Yemen                 2124  \n",
       "Zambia               60427  \n",
       "Zimbabwe             34331  \n",
       "\n",
       "[192 rows x 381 columns]"
      ],
      "text/html": "<div>\n<style scoped>\n    .dataframe tbody tr th:only-of-type {\n        vertical-align: middle;\n    }\n\n    .dataframe tbody tr th {\n        vertical-align: top;\n    }\n\n    .dataframe thead th {\n        text-align: right;\n    }\n</style>\n<table border=\"1\" class=\"dataframe\">\n  <thead>\n    <tr style=\"text-align: right;\">\n      <th></th>\n      <th>1/22/20</th>\n      <th>1/23/20</th>\n      <th>1/24/20</th>\n      <th>1/25/20</th>\n      <th>1/26/20</th>\n      <th>1/27/20</th>\n      <th>1/28/20</th>\n      <th>1/29/20</th>\n      <th>1/30/20</th>\n      <th>1/31/20</th>\n      <th>...</th>\n      <th>1/27/21</th>\n      <th>1/28/21</th>\n      <th>1/29/21</th>\n      <th>1/30/21</th>\n      <th>1/31/21</th>\n      <th>2/1/21</th>\n      <th>2/2/21</th>\n      <th>2/3/21</th>\n      <th>2/4/21</th>\n      <th>2/5/21</th>\n    </tr>\n    <tr>\n      <th>Country/Region</th>\n      <th></th>\n      <th></th>\n      <th></th>\n      <th></th>\n      <th></th>\n      <th></th>\n      <th></th>\n      <th></th>\n      <th></th>\n      <th></th>\n      <th></th>\n      <th></th>\n      <th></th>\n      <th></th>\n      <th></th>\n      <th></th>\n      <th></th>\n      <th></th>\n      <th></th>\n      <th></th>\n      <th></th>\n    </tr>\n  </thead>\n  <tbody>\n    <tr>\n      <th>Afghanistan</th>\n      <td>0</td>\n      <td>0</td>\n      <td>0</td>\n      <td>0</td>\n      <td>0</td>\n      <td>0</td>\n      <td>0</td>\n      <td>0</td>\n      <td>0</td>\n      <td>0</td>\n      <td>...</td>\n      <td>54854</td>\n      <td>54891</td>\n      <td>54939</td>\n      <td>55008</td>\n      <td>55023</td>\n      <td>55059</td>\n      <td>55121</td>\n      <td>55174</td>\n      <td>55231</td>\n      <td>55265</td>\n    </tr>\n    <tr>\n      <th>Albania</th>\n      <td>0</td>\n      <td>0</td>\n      <td>0</td>\n      <td>0</td>\n      <td>0</td>\n      <td>0</td>\n      <td>0</td>\n      <td>0</td>\n      <td>0</td>\n      <td>0</td>\n      <td>...</td>\n      <td>74567</td>\n      <td>75454</td>\n      <td>76350</td>\n      <td>77251</td>\n      <td>78127</td>\n      <td>78992</td>\n      <td>79934</td>\n      <td>80941</td>\n      <td>81993</td>\n      <td>83082</td>\n    </tr>\n    <tr>\n      <th>Algeria</th>\n      <td>0</td>\n      <td>0</td>\n      <td>0</td>\n      <td>0</td>\n      <td>0</td>\n      <td>0</td>\n      <td>0</td>\n      <td>0</td>\n      <td>0</td>\n      <td>0</td>\n      <td>...</td>\n      <td>106359</td>\n      <td>106610</td>\n      <td>106887</td>\n      <td>107122</td>\n      <td>107339</td>\n      <td>107578</td>\n      <td>107841</td>\n      <td>108116</td>\n      <td>108381</td>\n      <td>108629</td>\n    </tr>\n    <tr>\n      <th>Andorra</th>\n      <td>0</td>\n      <td>0</td>\n      <td>0</td>\n      <td>0</td>\n      <td>0</td>\n      <td>0</td>\n      <td>0</td>\n      <td>0</td>\n      <td>0</td>\n      <td>0</td>\n      <td>...</td>\n      <td>9716</td>\n      <td>9779</td>\n      <td>9837</td>\n      <td>9885</td>\n      <td>9937</td>\n      <td>9972</td>\n      <td>10017</td>\n      <td>10070</td>\n      <td>10137</td>\n      <td>10172</td>\n    </tr>\n    <tr>\n      <th>Angola</th>\n      <td>0</td>\n      <td>0</td>\n      <td>0</td>\n      <td>0</td>\n      <td>0</td>\n      <td>0</td>\n      <td>0</td>\n      <td>0</td>\n      <td>0</td>\n      <td>0</td>\n      <td>...</td>\n      <td>19580</td>\n      <td>19672</td>\n      <td>19723</td>\n      <td>19782</td>\n      <td>19796</td>\n      <td>19829</td>\n      <td>19900</td>\n      <td>19937</td>\n      <td>19996</td>\n      <td>20030</td>\n    </tr>\n    <tr>\n      <th>...</th>\n      <td>...</td>\n      <td>...</td>\n      <td>...</td>\n      <td>...</td>\n      <td>...</td>\n      <td>...</td>\n      <td>...</td>\n      <td>...</td>\n      <td>...</td>\n      <td>...</td>\n      <td>...</td>\n      <td>...</td>\n      <td>...</td>\n      <td>...</td>\n      <td>...</td>\n      <td>...</td>\n      <td>...</td>\n      <td>...</td>\n      <td>...</td>\n      <td>...</td>\n      <td>...</td>\n    </tr>\n    <tr>\n      <th>Vietnam</th>\n      <td>0</td>\n      <td>2</td>\n      <td>2</td>\n      <td>2</td>\n      <td>2</td>\n      <td>2</td>\n      <td>2</td>\n      <td>2</td>\n      <td>2</td>\n      <td>2</td>\n      <td>...</td>\n      <td>1553</td>\n      <td>1651</td>\n      <td>1657</td>\n      <td>1767</td>\n      <td>1817</td>\n      <td>1850</td>\n      <td>1882</td>\n      <td>1948</td>\n      <td>1957</td>\n      <td>1976</td>\n    </tr>\n    <tr>\n      <th>West Bank and Gaza</th>\n      <td>0</td>\n      <td>0</td>\n      <td>0</td>\n      <td>0</td>\n      <td>0</td>\n      <td>0</td>\n      <td>0</td>\n      <td>0</td>\n      <td>0</td>\n      <td>0</td>\n      <td>...</td>\n      <td>156996</td>\n      <td>157593</td>\n      <td>158168</td>\n      <td>158559</td>\n      <td>158962</td>\n      <td>159443</td>\n      <td>159956</td>\n      <td>160426</td>\n      <td>161087</td>\n      <td>161559</td>\n    </tr>\n    <tr>\n      <th>Yemen</th>\n      <td>0</td>\n      <td>0</td>\n      <td>0</td>\n      <td>0</td>\n      <td>0</td>\n      <td>0</td>\n      <td>0</td>\n      <td>0</td>\n      <td>0</td>\n      <td>0</td>\n      <td>...</td>\n      <td>2120</td>\n      <td>2120</td>\n      <td>2120</td>\n      <td>2120</td>\n      <td>2121</td>\n      <td>2122</td>\n      <td>2122</td>\n      <td>2122</td>\n      <td>2122</td>\n      <td>2124</td>\n    </tr>\n    <tr>\n      <th>Zambia</th>\n      <td>0</td>\n      <td>0</td>\n      <td>0</td>\n      <td>0</td>\n      <td>0</td>\n      <td>0</td>\n      <td>0</td>\n      <td>0</td>\n      <td>0</td>\n      <td>0</td>\n      <td>...</td>\n      <td>48911</td>\n      <td>50319</td>\n      <td>51624</td>\n      <td>53352</td>\n      <td>54217</td>\n      <td>55042</td>\n      <td>56233</td>\n      <td>57489</td>\n      <td>59003</td>\n      <td>60427</td>\n    </tr>\n    <tr>\n      <th>Zimbabwe</th>\n      <td>0</td>\n      <td>0</td>\n      <td>0</td>\n      <td>0</td>\n      <td>0</td>\n      <td>0</td>\n      <td>0</td>\n      <td>0</td>\n      <td>0</td>\n      <td>0</td>\n      <td>...</td>\n      <td>32304</td>\n      <td>32646</td>\n      <td>32952</td>\n      <td>33273</td>\n      <td>33388</td>\n      <td>33548</td>\n      <td>33814</td>\n      <td>33964</td>\n      <td>34171</td>\n      <td>34331</td>\n    </tr>\n  </tbody>\n</table>\n<p>192 rows × 381 columns</p>\n</div>"
     },
     "metadata": {},
     "execution_count": 43
    }
   ],
   "source": [
    "(data_confirmed.groupby(by=['Country/Region']).sum()).drop(['Lat','Long'], axis=1)"
   ]
  },
  {
   "cell_type": "code",
   "execution_count": 44,
   "metadata": {},
   "outputs": [
    {
     "output_type": "execute_result",
     "data": {
      "text/plain": [
       "    Province/State      Country/Region        Lat        Long  1/22/20  \\\n",
       "0              NaN         Afghanistan  33.939110   67.709953        0   \n",
       "1              NaN             Albania  41.153300   20.168300        0   \n",
       "2              NaN             Algeria  28.033900    1.659600        0   \n",
       "3              NaN             Andorra  42.506300    1.521800        0   \n",
       "4              NaN              Angola -11.202700   17.873900        0   \n",
       "..             ...                 ...        ...         ...      ...   \n",
       "268            NaN             Vietnam  14.058324  108.277199        0   \n",
       "269            NaN  West Bank and Gaza  31.952200   35.233200        0   \n",
       "270            NaN               Yemen  15.552727   48.516388        0   \n",
       "271            NaN              Zambia -13.133897   27.849332        0   \n",
       "272            NaN            Zimbabwe -19.015438   29.154857        0   \n",
       "\n",
       "     1/23/20  1/24/20  1/25/20  1/26/20  1/27/20  ...  1/27/21  1/28/21  \\\n",
       "0          0        0        0        0        0  ...    54854    54891   \n",
       "1          0        0        0        0        0  ...    74567    75454   \n",
       "2          0        0        0        0        0  ...   106359   106610   \n",
       "3          0        0        0        0        0  ...     9716     9779   \n",
       "4          0        0        0        0        0  ...    19580    19672   \n",
       "..       ...      ...      ...      ...      ...  ...      ...      ...   \n",
       "268        2        2        2        2        2  ...     1553     1651   \n",
       "269        0        0        0        0        0  ...   156996   157593   \n",
       "270        0        0        0        0        0  ...     2120     2120   \n",
       "271        0        0        0        0        0  ...    48911    50319   \n",
       "272        0        0        0        0        0  ...    32304    32646   \n",
       "\n",
       "     1/29/21  1/30/21  1/31/21  2/1/21  2/2/21  2/3/21  2/4/21  2/5/21  \n",
       "0      54939    55008    55023   55059   55121   55174   55231   55265  \n",
       "1      76350    77251    78127   78992   79934   80941   81993   83082  \n",
       "2     106887   107122   107339  107578  107841  108116  108381  108629  \n",
       "3       9837     9885     9937    9972   10017   10070   10137   10172  \n",
       "4      19723    19782    19796   19829   19900   19937   19996   20030  \n",
       "..       ...      ...      ...     ...     ...     ...     ...     ...  \n",
       "268     1657     1767     1817    1850    1882    1948    1957    1976  \n",
       "269   158168   158559   158962  159443  159956  160426  161087  161559  \n",
       "270     2120     2120     2121    2122    2122    2122    2122    2124  \n",
       "271    51624    53352    54217   55042   56233   57489   59003   60427  \n",
       "272    32952    33273    33388   33548   33814   33964   34171   34331  \n",
       "\n",
       "[273 rows x 385 columns]"
      ],
      "text/html": "<div>\n<style scoped>\n    .dataframe tbody tr th:only-of-type {\n        vertical-align: middle;\n    }\n\n    .dataframe tbody tr th {\n        vertical-align: top;\n    }\n\n    .dataframe thead th {\n        text-align: right;\n    }\n</style>\n<table border=\"1\" class=\"dataframe\">\n  <thead>\n    <tr style=\"text-align: right;\">\n      <th></th>\n      <th>Province/State</th>\n      <th>Country/Region</th>\n      <th>Lat</th>\n      <th>Long</th>\n      <th>1/22/20</th>\n      <th>1/23/20</th>\n      <th>1/24/20</th>\n      <th>1/25/20</th>\n      <th>1/26/20</th>\n      <th>1/27/20</th>\n      <th>...</th>\n      <th>1/27/21</th>\n      <th>1/28/21</th>\n      <th>1/29/21</th>\n      <th>1/30/21</th>\n      <th>1/31/21</th>\n      <th>2/1/21</th>\n      <th>2/2/21</th>\n      <th>2/3/21</th>\n      <th>2/4/21</th>\n      <th>2/5/21</th>\n    </tr>\n  </thead>\n  <tbody>\n    <tr>\n      <th>0</th>\n      <td>NaN</td>\n      <td>Afghanistan</td>\n      <td>33.939110</td>\n      <td>67.709953</td>\n      <td>0</td>\n      <td>0</td>\n      <td>0</td>\n      <td>0</td>\n      <td>0</td>\n      <td>0</td>\n      <td>...</td>\n      <td>54854</td>\n      <td>54891</td>\n      <td>54939</td>\n      <td>55008</td>\n      <td>55023</td>\n      <td>55059</td>\n      <td>55121</td>\n      <td>55174</td>\n      <td>55231</td>\n      <td>55265</td>\n    </tr>\n    <tr>\n      <th>1</th>\n      <td>NaN</td>\n      <td>Albania</td>\n      <td>41.153300</td>\n      <td>20.168300</td>\n      <td>0</td>\n      <td>0</td>\n      <td>0</td>\n      <td>0</td>\n      <td>0</td>\n      <td>0</td>\n      <td>...</td>\n      <td>74567</td>\n      <td>75454</td>\n      <td>76350</td>\n      <td>77251</td>\n      <td>78127</td>\n      <td>78992</td>\n      <td>79934</td>\n      <td>80941</td>\n      <td>81993</td>\n      <td>83082</td>\n    </tr>\n    <tr>\n      <th>2</th>\n      <td>NaN</td>\n      <td>Algeria</td>\n      <td>28.033900</td>\n      <td>1.659600</td>\n      <td>0</td>\n      <td>0</td>\n      <td>0</td>\n      <td>0</td>\n      <td>0</td>\n      <td>0</td>\n      <td>...</td>\n      <td>106359</td>\n      <td>106610</td>\n      <td>106887</td>\n      <td>107122</td>\n      <td>107339</td>\n      <td>107578</td>\n      <td>107841</td>\n      <td>108116</td>\n      <td>108381</td>\n      <td>108629</td>\n    </tr>\n    <tr>\n      <th>3</th>\n      <td>NaN</td>\n      <td>Andorra</td>\n      <td>42.506300</td>\n      <td>1.521800</td>\n      <td>0</td>\n      <td>0</td>\n      <td>0</td>\n      <td>0</td>\n      <td>0</td>\n      <td>0</td>\n      <td>...</td>\n      <td>9716</td>\n      <td>9779</td>\n      <td>9837</td>\n      <td>9885</td>\n      <td>9937</td>\n      <td>9972</td>\n      <td>10017</td>\n      <td>10070</td>\n      <td>10137</td>\n      <td>10172</td>\n    </tr>\n    <tr>\n      <th>4</th>\n      <td>NaN</td>\n      <td>Angola</td>\n      <td>-11.202700</td>\n      <td>17.873900</td>\n      <td>0</td>\n      <td>0</td>\n      <td>0</td>\n      <td>0</td>\n      <td>0</td>\n      <td>0</td>\n      <td>...</td>\n      <td>19580</td>\n      <td>19672</td>\n      <td>19723</td>\n      <td>19782</td>\n      <td>19796</td>\n      <td>19829</td>\n      <td>19900</td>\n      <td>19937</td>\n      <td>19996</td>\n      <td>20030</td>\n    </tr>\n    <tr>\n      <th>...</th>\n      <td>...</td>\n      <td>...</td>\n      <td>...</td>\n      <td>...</td>\n      <td>...</td>\n      <td>...</td>\n      <td>...</td>\n      <td>...</td>\n      <td>...</td>\n      <td>...</td>\n      <td>...</td>\n      <td>...</td>\n      <td>...</td>\n      <td>...</td>\n      <td>...</td>\n      <td>...</td>\n      <td>...</td>\n      <td>...</td>\n      <td>...</td>\n      <td>...</td>\n      <td>...</td>\n    </tr>\n    <tr>\n      <th>268</th>\n      <td>NaN</td>\n      <td>Vietnam</td>\n      <td>14.058324</td>\n      <td>108.277199</td>\n      <td>0</td>\n      <td>2</td>\n      <td>2</td>\n      <td>2</td>\n      <td>2</td>\n      <td>2</td>\n      <td>...</td>\n      <td>1553</td>\n      <td>1651</td>\n      <td>1657</td>\n      <td>1767</td>\n      <td>1817</td>\n      <td>1850</td>\n      <td>1882</td>\n      <td>1948</td>\n      <td>1957</td>\n      <td>1976</td>\n    </tr>\n    <tr>\n      <th>269</th>\n      <td>NaN</td>\n      <td>West Bank and Gaza</td>\n      <td>31.952200</td>\n      <td>35.233200</td>\n      <td>0</td>\n      <td>0</td>\n      <td>0</td>\n      <td>0</td>\n      <td>0</td>\n      <td>0</td>\n      <td>...</td>\n      <td>156996</td>\n      <td>157593</td>\n      <td>158168</td>\n      <td>158559</td>\n      <td>158962</td>\n      <td>159443</td>\n      <td>159956</td>\n      <td>160426</td>\n      <td>161087</td>\n      <td>161559</td>\n    </tr>\n    <tr>\n      <th>270</th>\n      <td>NaN</td>\n      <td>Yemen</td>\n      <td>15.552727</td>\n      <td>48.516388</td>\n      <td>0</td>\n      <td>0</td>\n      <td>0</td>\n      <td>0</td>\n      <td>0</td>\n      <td>0</td>\n      <td>...</td>\n      <td>2120</td>\n      <td>2120</td>\n      <td>2120</td>\n      <td>2120</td>\n      <td>2121</td>\n      <td>2122</td>\n      <td>2122</td>\n      <td>2122</td>\n      <td>2122</td>\n      <td>2124</td>\n    </tr>\n    <tr>\n      <th>271</th>\n      <td>NaN</td>\n      <td>Zambia</td>\n      <td>-13.133897</td>\n      <td>27.849332</td>\n      <td>0</td>\n      <td>0</td>\n      <td>0</td>\n      <td>0</td>\n      <td>0</td>\n      <td>0</td>\n      <td>...</td>\n      <td>48911</td>\n      <td>50319</td>\n      <td>51624</td>\n      <td>53352</td>\n      <td>54217</td>\n      <td>55042</td>\n      <td>56233</td>\n      <td>57489</td>\n      <td>59003</td>\n      <td>60427</td>\n    </tr>\n    <tr>\n      <th>272</th>\n      <td>NaN</td>\n      <td>Zimbabwe</td>\n      <td>-19.015438</td>\n      <td>29.154857</td>\n      <td>0</td>\n      <td>0</td>\n      <td>0</td>\n      <td>0</td>\n      <td>0</td>\n      <td>0</td>\n      <td>...</td>\n      <td>32304</td>\n      <td>32646</td>\n      <td>32952</td>\n      <td>33273</td>\n      <td>33388</td>\n      <td>33548</td>\n      <td>33814</td>\n      <td>33964</td>\n      <td>34171</td>\n      <td>34331</td>\n    </tr>\n  </tbody>\n</table>\n<p>273 rows × 385 columns</p>\n</div>"
     },
     "metadata": {},
     "execution_count": 44
    }
   ],
   "source": [
    "data_confirmed"
   ]
  },
  {
   "cell_type": "code",
   "execution_count": 19,
   "metadata": {},
   "outputs": [
    {
     "output_type": "stream",
     "name": "stdout",
     "text": [
      "['Afghanistan' 'Albania' 'Algeria' 'Andorra' 'Angola'\n 'Antigua and Barbuda' 'Argentina' 'Armenia' 'Australia' 'Australia'\n 'Australia' 'Australia' 'Australia' 'Australia' 'Australia' 'Australia'\n 'Austria' 'Azerbaijan' 'Bahamas' 'Bahrain' 'Bangladesh' 'Barbados'\n 'Belarus' 'Belgium' 'Belize' 'Benin' 'Bhutan' 'Bolivia'\n 'Bosnia and Herzegovina' 'Botswana' 'Brazil' 'Brunei' 'Bulgaria'\n 'Burkina Faso' 'Burma' 'Burundi' 'Cabo Verde' 'Cambodia' 'Cameroon'\n 'Canada' 'Canada' 'Canada' 'Canada' 'Canada' 'Canada' 'Canada' 'Canada'\n 'Canada' 'Canada' 'Canada' 'Canada' 'Canada' 'Canada' 'Canada' 'Canada'\n 'Central African Republic' 'Chad' 'Chile' 'China' 'China' 'China' 'China'\n 'China' 'China' 'China' 'China' 'China' 'China' 'China' 'China' 'China'\n 'China' 'China' 'China' 'China' 'China' 'China' 'China' 'China' 'China'\n 'China' 'China' 'China' 'China' 'China' 'China' 'China' 'China' 'China'\n 'China' 'China' 'Colombia' 'Comoros' 'Congo (Brazzaville)'\n 'Congo (Kinshasa)' 'Costa Rica' \"Cote d'Ivoire\" 'Croatia' 'Cuba' 'Cyprus'\n 'Czechia' 'Denmark' 'Denmark' 'Denmark' 'Diamond Princess' 'Djibouti'\n 'Dominica' 'Dominican Republic' 'Ecuador' 'Egypt' 'El Salvador'\n 'Equatorial Guinea' 'Eritrea' 'Estonia' 'Eswatini' 'Ethiopia' 'Fiji'\n 'Finland' 'France' 'France' 'France' 'France' 'France' 'France' 'France'\n 'France' 'France' 'France' 'France' 'France' 'Gabon' 'Gambia' 'Georgia'\n 'Germany' 'Ghana' 'Greece' 'Grenada' 'Guatemala' 'Guinea' 'Guinea-Bissau'\n 'Guyana' 'Haiti' 'Holy See' 'Honduras' 'Hungary' 'Iceland' 'India'\n 'Indonesia' 'Iran' 'Iraq' 'Ireland' 'Israel' 'Italy' 'Jamaica' 'Japan'\n 'Jordan' 'Kazakhstan' 'Kenya' 'Korea, South' 'Kosovo' 'Kuwait'\n 'Kyrgyzstan' 'Laos' 'Latvia' 'Lebanon' 'Lesotho' 'Liberia' 'Libya'\n 'Liechtenstein' 'Lithuania' 'Luxembourg' 'MS Zaandam' 'Madagascar'\n 'Malawi' 'Malaysia' 'Maldives' 'Mali' 'Malta' 'Marshall Islands'\n 'Mauritania' 'Mauritius' 'Mexico' 'Micronesia' 'Moldova' 'Monaco'\n 'Mongolia' 'Montenegro' 'Morocco' 'Mozambique' 'Namibia' 'Nepal'\n 'Netherlands' 'Netherlands' 'Netherlands' 'Netherlands' 'Netherlands'\n 'New Zealand' 'Nicaragua' 'Niger' 'Nigeria' 'North Macedonia' 'Norway'\n 'Oman' 'Pakistan' 'Panama' 'Papua New Guinea' 'Paraguay' 'Peru'\n 'Philippines' 'Poland' 'Portugal' 'Qatar' 'Romania' 'Russia' 'Rwanda'\n 'Saint Kitts and Nevis' 'Saint Lucia' 'Saint Vincent and the Grenadines'\n 'Samoa' 'San Marino' 'Sao Tome and Principe' 'Saudi Arabia' 'Senegal'\n 'Serbia' 'Seychelles' 'Sierra Leone' 'Singapore' 'Slovakia' 'Slovenia'\n 'Solomon Islands' 'Somalia' 'South Africa' 'South Sudan' 'Spain'\n 'Sri Lanka' 'Sudan' 'Suriname' 'Sweden' 'Switzerland' 'Syria' 'Taiwan*'\n 'Tajikistan' 'Tanzania' 'Thailand' 'Timor-Leste' 'Togo'\n 'Trinidad and Tobago' 'Tunisia' 'Turkey' 'US' 'Uganda' 'Ukraine'\n 'United Arab Emirates' 'United Kingdom' 'United Kingdom' 'United Kingdom'\n 'United Kingdom' 'United Kingdom' 'United Kingdom' 'United Kingdom'\n 'United Kingdom' 'United Kingdom' 'United Kingdom' 'United Kingdom'\n 'Uruguay' 'Uzbekistan' 'Vanuatu' 'Venezuela' 'Vietnam'\n 'West Bank and Gaza' 'Yemen' 'Zambia' 'Zimbabwe']\n"
     ]
    }
   ],
   "source": [
    "tagPlace=23;\n",
    "\n",
    "print(data_confirmed.values[:,1]);\n",
    "# it's much better to use the following:\n",
    "# data_confirmed[\"Country/Region\"].values\n",
    "\n",
    "array_confirmed = data_confirmed.values\n",
    "line_confirmed= array_confirmed[tagPlace,:]\n",
    "\n",
    "array_deths = data_deths.values\n",
    "line_deths= array_deths[tagPlace,:]\n",
    "\n",
    "array_recovered = data_recovered.values\n",
    "line_recovered= array_recovered[tagPlace,:]\n",
    "\n",
    "days=data_confirmed.shape[1]-4\n",
    "\n",
    "#print(line_recovered)"
   ]
  },
  {
   "cell_type": "code",
   "execution_count": 21,
   "metadata": {},
   "outputs": [
    {
     "output_type": "execute_result",
     "data": {
      "text/plain": [
       "array([nan, 'Belgium', 50.8333, 4.469936, 0, 0, 0, 0, 0, 0, 0, 0, 0, 0, 0,\n",
       "       0, 0, 1, 1, 1, 1, 1, 1, 1, 1, 1, 1, 1, 1, 1, 1, 1, 1, 1, 1, 1, 1,\n",
       "       1, 1, 1, 1, 1, 1, 2, 8, 13, 23, 50, 109, 169, 200, 239, 267, 314,\n",
       "       314, 559, 689, 886, 1058, 1243, 1486, 1795, 2257, 2815, 3401, 3743,\n",
       "       4269, 4937, 6235, 7284, 9134, 10836, 11899, 12775, 13964, 15348,\n",
       "       16770, 18431, 19691, 20814, 22194, 23403, 24983, 26667, 28018,\n",
       "       29647, 30589, 31119, 33573, 34809, 36138, 37183, 38496, 39983,\n",
       "       40956, 41889, 42797, 44293, 45325, 46134, 46687, 47334, 47859,\n",
       "       48519, 49032, 49517, 49906, 50267, 50509, 50781, 51420, 52011,\n",
       "       52596, 53081, 53449, 53779, 53981, 54288, 54644, 54989, 55280,\n",
       "       55559, 55791, 55983, 56235, 56511, 56810, 57092, 57342, 57455,\n",
       "       57592, 57849, 58061, 58186, 58381, 58517, 58615, 58685, 58767,\n",
       "       58907, 59072, 59226, 59348, 59437, 59569, 59711, 59819, 59918,\n",
       "       60029, 60100, 60155, 60244, 60348, 60476, 60550, 60550, 60550,\n",
       "       60810, 60898, 61007, 61106, 61209, 61295, 61361, 61427, 61509,\n",
       "       61598, 61727, 61838, 62016, 62058, 62058, 62123, 62210, 62357,\n",
       "       62469, 62707, 62707, 62781, 62872, 63238, 63499, 63706, 63706,\n",
       "       64094, 64258, 64627, 64847, 65199, 65727, 66026, 66428, 66662,\n",
       "       67335, 68006, 68751, 69402, 69849, 70314, 70648, 71158, 72016,\n",
       "       72784, 73401, 74152, 74620, 75008, 75647, 76191, 77113, 77869,\n",
       "       78323, 78534, 78897, 79479, 80178, 80894, 81468, 81936, 82092,\n",
       "       82447, 83030, 83500, 83952, 84599, 85042, 85236, 85487, 85911,\n",
       "       86544, 87174, 87825, 88367, 88769, 89141, 89691, 90568, 91537,\n",
       "       92478, 93455, 94306, 94795, 95948, 97976, 99649, 100748, 102295,\n",
       "       103392, 105226, 106887, 108768, 110976, 112803, 114179, 115353,\n",
       "       117115, 118452, 121059, 124234, 127623, 130235, 132203, 134291,\n",
       "       137868, 143596, 148981, 156931, 162258, 165880, 173240, 181511,\n",
       "       191959, 202151, 213115, 222253, 230480, 240159, 253386, 270132,\n",
       "       287700, 305409, 321031, 333718, 347289, 368337, 392258, 412314,\n",
       "       429229, 441018, 447355, 452541, 468213, 479341, 488044, 494168,\n",
       "       500789, 503182, 507475, 515391, 520393, 525012, 531280, 535939,\n",
       "       537871, 540605, 545787, 550264, 553680, 556904, 558779, 559902,\n",
       "       561803, 564967, 567532, 570829, 574448, 576599, 577345, 579212,\n",
       "       582252, 584857, 587439, 589942, 591756, 592615, 594572, 597643,\n",
       "       600397, 600397, 603159, 608137, 609211, 611422, 615058, 618204,\n",
       "       621039, 623760, 625930, 626911, 629109, 632321, 634904, 637246,\n",
       "       638030, 638877, 639734, 641411, 644242, 646496, 648289, 649169,\n",
       "       650011, 650887, 652735, 655732, 658655, 660703, 662694, 664263,\n",
       "       665223, 667322, 670249, 672886, 675089, 677209, 678839, 679771,\n",
       "       681250, 684256, 686827, 689271, 691854, 693666, 694858, 696642,\n",
       "       699662, 702437, 705120, 707837, 710153, 711417, 713271, 716395,\n",
       "       718847, 721432], dtype=object)"
      ]
     },
     "metadata": {},
     "execution_count": 21
    }
   ],
   "source": [
    "line_confirmed"
   ]
  },
  {
   "cell_type": "code",
   "execution_count": 66,
   "metadata": {},
   "outputs": [
    {
     "output_type": "error",
     "ename": "NameError",
     "evalue": "name 'line' is not defined",
     "traceback": [
      "\u001b[0;31m---------------------------------------------------------------------------\u001b[0m",
      "\u001b[0;31mNameError\u001b[0m                                 Traceback (most recent call last)",
      "\u001b[0;32m<ipython-input-66-8440d35ec603>\u001b[0m in \u001b[0;36m<module>\u001b[0;34m\u001b[0m\n\u001b[1;32m      6\u001b[0m \u001b[0;34m\u001b[0m\u001b[0m\n\u001b[1;32m      7\u001b[0m \u001b[0;31m# Data\u001b[0m\u001b[0;34m\u001b[0m\u001b[0;34m\u001b[0m\u001b[0;34m\u001b[0m\u001b[0m\n\u001b[0;32m----> 8\u001b[0;31m \u001b[0mdf\u001b[0m\u001b[0;34m=\u001b[0m\u001b[0mpd\u001b[0m\u001b[0;34m.\u001b[0m\u001b[0mDataFrame\u001b[0m\u001b[0;34m(\u001b[0m\u001b[0;34m{\u001b[0m\u001b[0;34m'x'\u001b[0m\u001b[0;34m:\u001b[0m\u001b[0mpd\u001b[0m\u001b[0;34m.\u001b[0m\u001b[0mdate_range\u001b[0m\u001b[0;34m(\u001b[0m\u001b[0;34m\"01/22/20\"\u001b[0m\u001b[0;34m,\u001b[0m \u001b[0mperiods\u001b[0m\u001b[0;34m=\u001b[0m\u001b[0mdays\u001b[0m\u001b[0;34m)\u001b[0m\u001b[0;34m,\u001b[0m\u001b[0;34m'y11'\u001b[0m\u001b[0;34m:\u001b[0m\u001b[0mline_confirmed\u001b[0m\u001b[0;34m[\u001b[0m\u001b[0;36m4\u001b[0m\u001b[0;34m:\u001b[0m\u001b[0mlen\u001b[0m\u001b[0;34m(\u001b[0m\u001b[0mline\u001b[0m\u001b[0;34m)\u001b[0m\u001b[0;34m]\u001b[0m\u001b[0;34m,\u001b[0m\u001b[0;34m'y22'\u001b[0m\u001b[0;34m:\u001b[0m\u001b[0mline_deths\u001b[0m\u001b[0;34m[\u001b[0m\u001b[0;36m4\u001b[0m\u001b[0;34m:\u001b[0m\u001b[0mlen\u001b[0m\u001b[0;34m(\u001b[0m\u001b[0mline\u001b[0m\u001b[0;34m)\u001b[0m\u001b[0;34m]\u001b[0m\u001b[0;34m,\u001b[0m\u001b[0;34m'y33'\u001b[0m\u001b[0;34m:\u001b[0m\u001b[0mline_recovered\u001b[0m\u001b[0;34m[\u001b[0m\u001b[0;36m4\u001b[0m\u001b[0;34m:\u001b[0m\u001b[0mlen\u001b[0m\u001b[0;34m(\u001b[0m\u001b[0mline\u001b[0m\u001b[0;34m)\u001b[0m\u001b[0;34m]\u001b[0m\u001b[0;34m}\u001b[0m\u001b[0;34m)\u001b[0m\u001b[0;34m\u001b[0m\u001b[0;34m\u001b[0m\u001b[0m\n\u001b[0m\u001b[1;32m      9\u001b[0m \u001b[0;31m# multiple line plot\u001b[0m\u001b[0;34m\u001b[0m\u001b[0;34m\u001b[0m\u001b[0;34m\u001b[0m\u001b[0m\n\u001b[1;32m     10\u001b[0m \u001b[0mplt\u001b[0m\u001b[0;34m.\u001b[0m\u001b[0mplot\u001b[0m\u001b[0;34m(\u001b[0m \u001b[0;34m'x'\u001b[0m\u001b[0;34m,\u001b[0m \u001b[0;34m'y11'\u001b[0m\u001b[0;34m,\u001b[0m \u001b[0mdata\u001b[0m\u001b[0;34m=\u001b[0m\u001b[0mdf\u001b[0m\u001b[0;34m,\u001b[0m \u001b[0mmarker\u001b[0m\u001b[0;34m=\u001b[0m\u001b[0;34m''\u001b[0m\u001b[0;34m,\u001b[0m \u001b[0mcolor\u001b[0m\u001b[0;34m=\u001b[0m\u001b[0;34m'orange'\u001b[0m\u001b[0;34m,\u001b[0m \u001b[0mlinewidth\u001b[0m\u001b[0;34m=\u001b[0m\u001b[0;36m1\u001b[0m\u001b[0;34m,\u001b[0m\u001b[0mlabel\u001b[0m\u001b[0;34m=\u001b[0m\u001b[0;34m\"confirmed\"\u001b[0m\u001b[0;34m)\u001b[0m\u001b[0;34m\u001b[0m\u001b[0;34m\u001b[0m\u001b[0m\n",
      "\u001b[0;31mNameError\u001b[0m: name 'line' is not defined"
     ]
    }
   ],
   "source": [
    "# libraries\n",
    "import matplotlib.pyplot as plt\n",
    "import numpy as np\n",
    "import pandas as pd\n",
    " \n",
    "\n",
    "# Data\n",
    "df=pd.DataFrame({'x':pd.date_range(\"01/22/20\", periods=days),'y11':line_confirmed[4:len(line)],'y22':line_deths[4:len(line)],'y33':line_recovered[4:len(line)]})\n",
    "# multiple line plot\n",
    "plt.plot( 'x', 'y11', data=df, marker='', color='orange', linewidth=1,label=\"confirmed\")\n",
    "plt.plot( 'x', 'y22', data=df, marker='', color='red', linewidth=1,label=\"deths\")\n",
    "plt.plot( 'x', 'y33', data=df, marker='', color='green', linewidth=1,label=\"recovered\")\n",
    "plt.legend()\n",
    "plt.yscale(\"log\")"
   ]
  },
  {
   "cell_type": "code",
   "execution_count": null,
   "metadata": {},
   "outputs": [],
   "source": []
  }
 ],
 "metadata": {
  "kernelspec": {
   "display_name": "Python 3",
   "language": "python",
   "name": "python3"
  },
  "language_info": {
   "codemirror_mode": {
    "name": "ipython",
    "version": 3
   },
   "file_extension": ".py",
   "mimetype": "text/x-python",
   "name": "python",
   "nbconvert_exporter": "python",
   "pygments_lexer": "ipython3",
   "version": "3.7.6-final"
  }
 },
 "nbformat": 4,
 "nbformat_minor": 4
}