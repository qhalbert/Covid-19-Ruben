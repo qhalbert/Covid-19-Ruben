{
 "cells": [
  {
   "cell_type": "code",
   "execution_count": 1,
   "metadata": {},
   "outputs": [],
   "source": [
    "import pandas as pd"
   ]
  },
  {
   "cell_type": "code",
   "execution_count": 5,
   "metadata": {},
   "outputs": [
    {
     "output_type": "stream",
     "name": "stdout",
     "text": [
      "matrix shape: (273, 385)\n"
     ]
    },
    {
     "output_type": "execute_result",
     "data": {
      "text/plain": [
       "                  Province/State       Country/Region        Lat        Long  \\\n",
       "0                            NaN          Afghanistan  33.939110   67.709953   \n",
       "1                            NaN              Albania  41.153300   20.168300   \n",
       "2                            NaN              Algeria  28.033900    1.659600   \n",
       "3                            NaN              Andorra  42.506300    1.521800   \n",
       "4                            NaN               Angola -11.202700   17.873900   \n",
       "5                            NaN  Antigua and Barbuda  17.060800  -61.796400   \n",
       "6                            NaN            Argentina -38.416100  -63.616700   \n",
       "7                            NaN              Armenia  40.069100   45.038200   \n",
       "8   Australian Capital Territory            Australia -35.473500  149.012400   \n",
       "9                New South Wales            Australia -33.868800  151.209300   \n",
       "10            Northern Territory            Australia -12.463400  130.845600   \n",
       "11                    Queensland            Australia -27.469800  153.025100   \n",
       "12               South Australia            Australia -34.928500  138.600700   \n",
       "13                      Tasmania            Australia -42.882100  147.327200   \n",
       "14                      Victoria            Australia -37.813600  144.963100   \n",
       "15             Western Australia            Australia -31.950500  115.860500   \n",
       "16                           NaN              Austria  47.516200   14.550100   \n",
       "17                           NaN           Azerbaijan  40.143100   47.576900   \n",
       "18                           NaN              Bahamas  25.025885  -78.035889   \n",
       "19                           NaN              Bahrain  26.027500   50.550000   \n",
       "\n",
       "    1/22/20  1/23/20  1/24/20  1/25/20  1/26/20  1/27/20  ...  1/27/21  \\\n",
       "0         0        0        0        0        0        0  ...    54854   \n",
       "1         0        0        0        0        0        0  ...    74567   \n",
       "2         0        0        0        0        0        0  ...   106359   \n",
       "3         0        0        0        0        0        0  ...     9716   \n",
       "4         0        0        0        0        0        0  ...    19580   \n",
       "5         0        0        0        0        0        0  ...      215   \n",
       "6         0        0        0        0        0        0  ...  1896053   \n",
       "7         0        0        0        0        0        0  ...   166427   \n",
       "8         0        0        0        0        0        0  ...      118   \n",
       "9         0        0        0        0        3        4  ...     5096   \n",
       "10        0        0        0        0        0        0  ...       98   \n",
       "11        0        0        0        0        0        0  ...     1307   \n",
       "12        0        0        0        0        0        0  ...      596   \n",
       "13        0        0        0        0        0        0  ...      234   \n",
       "14        0        0        0        0        1        1  ...    20447   \n",
       "15        0        0        0        0        0        0  ...      898   \n",
       "16        0        0        0        0        0        0  ...   408781   \n",
       "17        0        0        0        0        0        0  ...   229584   \n",
       "18        0        0        0        0        0        0  ...     8161   \n",
       "19        0        0        0        0        0        0  ...   101116   \n",
       "\n",
       "    1/28/21  1/29/21  1/30/21  1/31/21   2/1/21   2/2/21   2/3/21   2/4/21  \\\n",
       "0     54891    54939    55008    55023    55059    55121    55174    55231   \n",
       "1     75454    76350    77251    78127    78992    79934    80941    81993   \n",
       "2    106610   106887   107122   107339   107578   107841   108116   108381   \n",
       "3      9779     9837     9885     9937     9972    10017    10070    10137   \n",
       "4     19672    19723    19782    19796    19829    19900    19937    19996   \n",
       "5       215      218      218      234      234      249      249      268   \n",
       "6   1905524  1915362  1922264  1927239  1933853  1943548  1952744  1961635   \n",
       "7    166669   166728   166901   167026   167088   167231   167421   167568   \n",
       "8       118      118      118      118      118      118      118      118   \n",
       "9      5099     5101     5104     5110     5112     5114     5117     5117   \n",
       "10       98       98       98       98       98       98       99       99   \n",
       "11     1308     1309     1309     1310     1311     1311     1311     1309   \n",
       "12      596      596      597      596      597      601      601      602   \n",
       "13      234      234      234      234      234      234      234      234   \n",
       "14    20448    20448    20448    20449    20450    20449    20452    20456   \n",
       "15      898      902      903      903      903      904      906      907   \n",
       "16   410230   411730   413208   414398   415522   416763   418283   419801   \n",
       "17   229793   229935   230066   230219   230296   230455   230617   230769   \n",
       "18     8161     8167     8174     8174     8174     8223     8231     8247   \n",
       "19   101503   101971   102626   103057   103582   104239   104792   105496   \n",
       "\n",
       "     2/5/21  \n",
       "0     55265  \n",
       "1     83082  \n",
       "2    108629  \n",
       "3     10172  \n",
       "4     20030  \n",
       "5       277  \n",
       "6   1970009  \n",
       "7    167726  \n",
       "8       118  \n",
       "9      5119  \n",
       "10      101  \n",
       "11     1311  \n",
       "12      602  \n",
       "13      234  \n",
       "14    20456  \n",
       "15      907  \n",
       "16   421189  \n",
       "17   230907  \n",
       "18     8256  \n",
       "19   106198  \n",
       "\n",
       "[20 rows x 385 columns]"
      ],
      "text/html": "<div>\n<style scoped>\n    .dataframe tbody tr th:only-of-type {\n        vertical-align: middle;\n    }\n\n    .dataframe tbody tr th {\n        vertical-align: top;\n    }\n\n    .dataframe thead th {\n        text-align: right;\n    }\n</style>\n<table border=\"1\" class=\"dataframe\">\n  <thead>\n    <tr style=\"text-align: right;\">\n      <th></th>\n      <th>Province/State</th>\n      <th>Country/Region</th>\n      <th>Lat</th>\n      <th>Long</th>\n      <th>1/22/20</th>\n      <th>1/23/20</th>\n      <th>1/24/20</th>\n      <th>1/25/20</th>\n      <th>1/26/20</th>\n      <th>1/27/20</th>\n      <th>...</th>\n      <th>1/27/21</th>\n      <th>1/28/21</th>\n      <th>1/29/21</th>\n      <th>1/30/21</th>\n      <th>1/31/21</th>\n      <th>2/1/21</th>\n      <th>2/2/21</th>\n      <th>2/3/21</th>\n      <th>2/4/21</th>\n      <th>2/5/21</th>\n    </tr>\n  </thead>\n  <tbody>\n    <tr>\n      <th>0</th>\n      <td>NaN</td>\n      <td>Afghanistan</td>\n      <td>33.939110</td>\n      <td>67.709953</td>\n      <td>0</td>\n      <td>0</td>\n      <td>0</td>\n      <td>0</td>\n      <td>0</td>\n      <td>0</td>\n      <td>...</td>\n      <td>54854</td>\n      <td>54891</td>\n      <td>54939</td>\n      <td>55008</td>\n      <td>55023</td>\n      <td>55059</td>\n      <td>55121</td>\n      <td>55174</td>\n      <td>55231</td>\n      <td>55265</td>\n    </tr>\n    <tr>\n      <th>1</th>\n      <td>NaN</td>\n      <td>Albania</td>\n      <td>41.153300</td>\n      <td>20.168300</td>\n      <td>0</td>\n      <td>0</td>\n      <td>0</td>\n      <td>0</td>\n      <td>0</td>\n      <td>0</td>\n      <td>...</td>\n      <td>74567</td>\n      <td>75454</td>\n      <td>76350</td>\n      <td>77251</td>\n      <td>78127</td>\n      <td>78992</td>\n      <td>79934</td>\n      <td>80941</td>\n      <td>81993</td>\n      <td>83082</td>\n    </tr>\n    <tr>\n      <th>2</th>\n      <td>NaN</td>\n      <td>Algeria</td>\n      <td>28.033900</td>\n      <td>1.659600</td>\n      <td>0</td>\n      <td>0</td>\n      <td>0</td>\n      <td>0</td>\n      <td>0</td>\n      <td>0</td>\n      <td>...</td>\n      <td>106359</td>\n      <td>106610</td>\n      <td>106887</td>\n      <td>107122</td>\n      <td>107339</td>\n      <td>107578</td>\n      <td>107841</td>\n      <td>108116</td>\n      <td>108381</td>\n      <td>108629</td>\n    </tr>\n    <tr>\n      <th>3</th>\n      <td>NaN</td>\n      <td>Andorra</td>\n      <td>42.506300</td>\n      <td>1.521800</td>\n      <td>0</td>\n      <td>0</td>\n      <td>0</td>\n      <td>0</td>\n      <td>0</td>\n      <td>0</td>\n      <td>...</td>\n      <td>9716</td>\n      <td>9779</td>\n      <td>9837</td>\n      <td>9885</td>\n      <td>9937</td>\n      <td>9972</td>\n      <td>10017</td>\n      <td>10070</td>\n      <td>10137</td>\n      <td>10172</td>\n    </tr>\n    <tr>\n      <th>4</th>\n      <td>NaN</td>\n      <td>Angola</td>\n      <td>-11.202700</td>\n      <td>17.873900</td>\n      <td>0</td>\n      <td>0</td>\n      <td>0</td>\n      <td>0</td>\n      <td>0</td>\n      <td>0</td>\n      <td>...</td>\n      <td>19580</td>\n      <td>19672</td>\n      <td>19723</td>\n      <td>19782</td>\n      <td>19796</td>\n      <td>19829</td>\n      <td>19900</td>\n      <td>19937</td>\n      <td>19996</td>\n      <td>20030</td>\n    </tr>\n    <tr>\n      <th>5</th>\n      <td>NaN</td>\n      <td>Antigua and Barbuda</td>\n      <td>17.060800</td>\n      <td>-61.796400</td>\n      <td>0</td>\n      <td>0</td>\n      <td>0</td>\n      <td>0</td>\n      <td>0</td>\n      <td>0</td>\n      <td>...</td>\n      <td>215</td>\n      <td>215</td>\n      <td>218</td>\n      <td>218</td>\n      <td>234</td>\n      <td>234</td>\n      <td>249</td>\n      <td>249</td>\n      <td>268</td>\n      <td>277</td>\n    </tr>\n    <tr>\n      <th>6</th>\n      <td>NaN</td>\n      <td>Argentina</td>\n      <td>-38.416100</td>\n      <td>-63.616700</td>\n      <td>0</td>\n      <td>0</td>\n      <td>0</td>\n      <td>0</td>\n      <td>0</td>\n      <td>0</td>\n      <td>...</td>\n      <td>1896053</td>\n      <td>1905524</td>\n      <td>1915362</td>\n      <td>1922264</td>\n      <td>1927239</td>\n      <td>1933853</td>\n      <td>1943548</td>\n      <td>1952744</td>\n      <td>1961635</td>\n      <td>1970009</td>\n    </tr>\n    <tr>\n      <th>7</th>\n      <td>NaN</td>\n      <td>Armenia</td>\n      <td>40.069100</td>\n      <td>45.038200</td>\n      <td>0</td>\n      <td>0</td>\n      <td>0</td>\n      <td>0</td>\n      <td>0</td>\n      <td>0</td>\n      <td>...</td>\n      <td>166427</td>\n      <td>166669</td>\n      <td>166728</td>\n      <td>166901</td>\n      <td>167026</td>\n      <td>167088</td>\n      <td>167231</td>\n      <td>167421</td>\n      <td>167568</td>\n      <td>167726</td>\n    </tr>\n    <tr>\n      <th>8</th>\n      <td>Australian Capital Territory</td>\n      <td>Australia</td>\n      <td>-35.473500</td>\n      <td>149.012400</td>\n      <td>0</td>\n      <td>0</td>\n      <td>0</td>\n      <td>0</td>\n      <td>0</td>\n      <td>0</td>\n      <td>...</td>\n      <td>118</td>\n      <td>118</td>\n      <td>118</td>\n      <td>118</td>\n      <td>118</td>\n      <td>118</td>\n      <td>118</td>\n      <td>118</td>\n      <td>118</td>\n      <td>118</td>\n    </tr>\n    <tr>\n      <th>9</th>\n      <td>New South Wales</td>\n      <td>Australia</td>\n      <td>-33.868800</td>\n      <td>151.209300</td>\n      <td>0</td>\n      <td>0</td>\n      <td>0</td>\n      <td>0</td>\n      <td>3</td>\n      <td>4</td>\n      <td>...</td>\n      <td>5096</td>\n      <td>5099</td>\n      <td>5101</td>\n      <td>5104</td>\n      <td>5110</td>\n      <td>5112</td>\n      <td>5114</td>\n      <td>5117</td>\n      <td>5117</td>\n      <td>5119</td>\n    </tr>\n    <tr>\n      <th>10</th>\n      <td>Northern Territory</td>\n      <td>Australia</td>\n      <td>-12.463400</td>\n      <td>130.845600</td>\n      <td>0</td>\n      <td>0</td>\n      <td>0</td>\n      <td>0</td>\n      <td>0</td>\n      <td>0</td>\n      <td>...</td>\n      <td>98</td>\n      <td>98</td>\n      <td>98</td>\n      <td>98</td>\n      <td>98</td>\n      <td>98</td>\n      <td>98</td>\n      <td>99</td>\n      <td>99</td>\n      <td>101</td>\n    </tr>\n    <tr>\n      <th>11</th>\n      <td>Queensland</td>\n      <td>Australia</td>\n      <td>-27.469800</td>\n      <td>153.025100</td>\n      <td>0</td>\n      <td>0</td>\n      <td>0</td>\n      <td>0</td>\n      <td>0</td>\n      <td>0</td>\n      <td>...</td>\n      <td>1307</td>\n      <td>1308</td>\n      <td>1309</td>\n      <td>1309</td>\n      <td>1310</td>\n      <td>1311</td>\n      <td>1311</td>\n      <td>1311</td>\n      <td>1309</td>\n      <td>1311</td>\n    </tr>\n    <tr>\n      <th>12</th>\n      <td>South Australia</td>\n      <td>Australia</td>\n      <td>-34.928500</td>\n      <td>138.600700</td>\n      <td>0</td>\n      <td>0</td>\n      <td>0</td>\n      <td>0</td>\n      <td>0</td>\n      <td>0</td>\n      <td>...</td>\n      <td>596</td>\n      <td>596</td>\n      <td>596</td>\n      <td>597</td>\n      <td>596</td>\n      <td>597</td>\n      <td>601</td>\n      <td>601</td>\n      <td>602</td>\n      <td>602</td>\n    </tr>\n    <tr>\n      <th>13</th>\n      <td>Tasmania</td>\n      <td>Australia</td>\n      <td>-42.882100</td>\n      <td>147.327200</td>\n      <td>0</td>\n      <td>0</td>\n      <td>0</td>\n      <td>0</td>\n      <td>0</td>\n      <td>0</td>\n      <td>...</td>\n      <td>234</td>\n      <td>234</td>\n      <td>234</td>\n      <td>234</td>\n      <td>234</td>\n      <td>234</td>\n      <td>234</td>\n      <td>234</td>\n      <td>234</td>\n      <td>234</td>\n    </tr>\n    <tr>\n      <th>14</th>\n      <td>Victoria</td>\n      <td>Australia</td>\n      <td>-37.813600</td>\n      <td>144.963100</td>\n      <td>0</td>\n      <td>0</td>\n      <td>0</td>\n      <td>0</td>\n      <td>1</td>\n      <td>1</td>\n      <td>...</td>\n      <td>20447</td>\n      <td>20448</td>\n      <td>20448</td>\n      <td>20448</td>\n      <td>20449</td>\n      <td>20450</td>\n      <td>20449</td>\n      <td>20452</td>\n      <td>20456</td>\n      <td>20456</td>\n    </tr>\n    <tr>\n      <th>15</th>\n      <td>Western Australia</td>\n      <td>Australia</td>\n      <td>-31.950500</td>\n      <td>115.860500</td>\n      <td>0</td>\n      <td>0</td>\n      <td>0</td>\n      <td>0</td>\n      <td>0</td>\n      <td>0</td>\n      <td>...</td>\n      <td>898</td>\n      <td>898</td>\n      <td>902</td>\n      <td>903</td>\n      <td>903</td>\n      <td>903</td>\n      <td>904</td>\n      <td>906</td>\n      <td>907</td>\n      <td>907</td>\n    </tr>\n    <tr>\n      <th>16</th>\n      <td>NaN</td>\n      <td>Austria</td>\n      <td>47.516200</td>\n      <td>14.550100</td>\n      <td>0</td>\n      <td>0</td>\n      <td>0</td>\n      <td>0</td>\n      <td>0</td>\n      <td>0</td>\n      <td>...</td>\n      <td>408781</td>\n      <td>410230</td>\n      <td>411730</td>\n      <td>413208</td>\n      <td>414398</td>\n      <td>415522</td>\n      <td>416763</td>\n      <td>418283</td>\n      <td>419801</td>\n      <td>421189</td>\n    </tr>\n    <tr>\n      <th>17</th>\n      <td>NaN</td>\n      <td>Azerbaijan</td>\n      <td>40.143100</td>\n      <td>47.576900</td>\n      <td>0</td>\n      <td>0</td>\n      <td>0</td>\n      <td>0</td>\n      <td>0</td>\n      <td>0</td>\n      <td>...</td>\n      <td>229584</td>\n      <td>229793</td>\n      <td>229935</td>\n      <td>230066</td>\n      <td>230219</td>\n      <td>230296</td>\n      <td>230455</td>\n      <td>230617</td>\n      <td>230769</td>\n      <td>230907</td>\n    </tr>\n    <tr>\n      <th>18</th>\n      <td>NaN</td>\n      <td>Bahamas</td>\n      <td>25.025885</td>\n      <td>-78.035889</td>\n      <td>0</td>\n      <td>0</td>\n      <td>0</td>\n      <td>0</td>\n      <td>0</td>\n      <td>0</td>\n      <td>...</td>\n      <td>8161</td>\n      <td>8161</td>\n      <td>8167</td>\n      <td>8174</td>\n      <td>8174</td>\n      <td>8174</td>\n      <td>8223</td>\n      <td>8231</td>\n      <td>8247</td>\n      <td>8256</td>\n    </tr>\n    <tr>\n      <th>19</th>\n      <td>NaN</td>\n      <td>Bahrain</td>\n      <td>26.027500</td>\n      <td>50.550000</td>\n      <td>0</td>\n      <td>0</td>\n      <td>0</td>\n      <td>0</td>\n      <td>0</td>\n      <td>0</td>\n      <td>...</td>\n      <td>101116</td>\n      <td>101503</td>\n      <td>101971</td>\n      <td>102626</td>\n      <td>103057</td>\n      <td>103582</td>\n      <td>104239</td>\n      <td>104792</td>\n      <td>105496</td>\n      <td>106198</td>\n    </tr>\n  </tbody>\n</table>\n<p>20 rows × 385 columns</p>\n</div>"
     },
     "metadata": {},
     "execution_count": 5
    }
   ],
   "source": [
    "url_confirmed = \"https://raw.githubusercontent.com/CSSEGISandData/COVID-19/master/csse_covid_19_data/csse_covid_19_time_series/time_series_covid19_confirmed_global.csv\"\n",
    "url_deths = \"https://raw.githubusercontent.com/CSSEGISandData/COVID-19/master/csse_covid_19_data/csse_covid_19_time_series/time_series_covid19_deaths_global.csv\"\n",
    "url_recovered = \"https://raw.githubusercontent.com/CSSEGISandData/COVID-19/master/csse_covid_19_data/csse_covid_19_time_series/time_series_covid19_recovered_global.csv\"\n",
    "data_confirmed = pd.read_csv(url_confirmed)\n",
    "data_deths = pd.read_csv(url_deths)\n",
    "data_recovered = pd.read_csv(url_recovered)\n",
    "print(\"matrix shape:\" ,data_confirmed.shape)\n",
    "data_confirmed.head(20)"
   ]
  },
  {
   "cell_type": "code",
   "execution_count": 235,
   "metadata": {},
   "outputs": [
    {
     "name": "stdout",
     "output_type": "stream",
     "text": [
      "['Afghanistan' 'Albania' 'Algeria' 'Andorra' 'Angola'\n",
      " 'Antigua and Barbuda' 'Argentina' 'Armenia' 'Australia' 'Australia'\n",
      " 'Australia' 'Australia' 'Australia' 'Australia' 'Australia' 'Australia'\n",
      " 'Austria' 'Azerbaijan' 'Bahamas' 'Bahrain' 'Bangladesh' 'Barbados'\n",
      " 'Belarus' 'Belgium' 'Belize' 'Benin' 'Bhutan' 'Bolivia'\n",
      " 'Bosnia and Herzegovina' 'Botswana' 'Brazil' 'Brunei' 'Bulgaria'\n",
      " 'Burkina Faso' 'Burma' 'Burundi' 'Cabo Verde' 'Cambodia' 'Cameroon'\n",
      " 'Canada' 'Canada' 'Canada' 'Canada' 'Canada' 'Canada' 'Canada' 'Canada'\n",
      " 'Canada' 'Canada' 'Canada' 'Canada' 'Canada' 'Canada' 'Canada' 'Canada'\n",
      " 'Central African Republic' 'Chad' 'Chile' 'China' 'China' 'China' 'China'\n",
      " 'China' 'China' 'China' 'China' 'China' 'China' 'China' 'China' 'China'\n",
      " 'China' 'China' 'China' 'China' 'China' 'China' 'China' 'China' 'China'\n",
      " 'China' 'China' 'China' 'China' 'China' 'China' 'China' 'China' 'China'\n",
      " 'China' 'China' 'Colombia' 'Comoros' 'Congo (Brazzaville)'\n",
      " 'Congo (Kinshasa)' 'Costa Rica' \"Cote d'Ivoire\" 'Croatia' 'Cuba' 'Cyprus'\n",
      " 'Czechia' 'Denmark' 'Denmark' 'Denmark' 'Diamond Princess' 'Djibouti'\n",
      " 'Dominica' 'Dominican Republic' 'Ecuador' 'Egypt' 'El Salvador'\n",
      " 'Equatorial Guinea' 'Eritrea' 'Estonia' 'Eswatini' 'Ethiopia' 'Fiji'\n",
      " 'Finland' 'France' 'France' 'France' 'France' 'France' 'France' 'France'\n",
      " 'France' 'France' 'France' 'France' 'France' 'Gabon' 'Gambia' 'Georgia'\n",
      " 'Germany' 'Ghana' 'Greece' 'Grenada' 'Guatemala' 'Guinea' 'Guinea-Bissau'\n",
      " 'Guyana' 'Haiti' 'Holy See' 'Honduras' 'Hungary' 'Iceland' 'India'\n",
      " 'Indonesia' 'Iran' 'Iraq' 'Ireland' 'Israel' 'Italy' 'Jamaica' 'Japan'\n",
      " 'Jordan' 'Kazakhstan' 'Kenya' 'Korea, South' 'Kosovo' 'Kuwait'\n",
      " 'Kyrgyzstan' 'Laos' 'Latvia' 'Lebanon' 'Lesotho' 'Liberia' 'Libya'\n",
      " 'Liechtenstein' 'Lithuania' 'Luxembourg' 'MS Zaandam' 'Madagascar'\n",
      " 'Malawi' 'Malaysia' 'Maldives' 'Mali' 'Malta' 'Marshall Islands'\n",
      " 'Mauritania' 'Mauritius' 'Mexico' 'Micronesia' 'Moldova' 'Monaco'\n",
      " 'Mongolia' 'Montenegro' 'Morocco' 'Mozambique' 'Namibia' 'Nepal'\n",
      " 'Netherlands' 'Netherlands' 'Netherlands' 'Netherlands' 'Netherlands'\n",
      " 'New Zealand' 'Nicaragua' 'Niger' 'Nigeria' 'North Macedonia' 'Norway'\n",
      " 'Oman' 'Pakistan' 'Panama' 'Papua New Guinea' 'Paraguay' 'Peru'\n",
      " 'Philippines' 'Poland' 'Portugal' 'Qatar' 'Romania' 'Russia' 'Rwanda'\n",
      " 'Saint Kitts and Nevis' 'Saint Lucia' 'Saint Vincent and the Grenadines'\n",
      " 'Samoa' 'San Marino' 'Sao Tome and Principe' 'Saudi Arabia' 'Senegal'\n",
      " 'Serbia' 'Seychelles' 'Sierra Leone' 'Singapore' 'Slovakia' 'Slovenia'\n",
      " 'Solomon Islands' 'Somalia' 'South Africa' 'South Sudan' 'Spain'\n",
      " 'Sri Lanka' 'Sudan' 'Suriname' 'Sweden' 'Switzerland' 'Syria' 'Taiwan*'\n",
      " 'Tajikistan' 'Tanzania' 'Thailand' 'Timor-Leste' 'Togo'\n",
      " 'Trinidad and Tobago' 'Tunisia' 'Turkey' 'US' 'Uganda' 'Ukraine'\n",
      " 'United Arab Emirates' 'United Kingdom' 'United Kingdom' 'United Kingdom'\n",
      " 'United Kingdom' 'United Kingdom' 'United Kingdom' 'United Kingdom'\n",
      " 'United Kingdom' 'United Kingdom' 'United Kingdom' 'United Kingdom'\n",
      " 'Uruguay' 'Uzbekistan' 'Vanuatu' 'Venezuela' 'Vietnam'\n",
      " 'West Bank and Gaza' 'Yemen' 'Zambia' 'Zimbabwe']\n"
     ]
    }
   ],
   "source": [
    "tagPlace=23;\n",
    "\n",
    "print(data_confirmed.values[:,1])\n",
    "\n",
    "array_confirmed = data_confirmed.values\n",
    "line_confirmed= array_confirmed[tagPlace,:]\n",
    "\n",
    "array_deths = data_deths.values\n",
    "line_deths= array_deths[tagPlace,:]\n",
    "\n",
    "array_recovered = data_recovered.values\n",
    "line_recovered= array_recovered[tagPlace,:]\n",
    "\n",
    "days=data_confirmed.shape[1]-4\n",
    "\n",
    "#print(line_recovered)"
   ]
  },
  {
   "cell_type": "code",
   "execution_count": 220,
   "metadata": {},
   "outputs": [
    {
     "data": {
      "image/png": "[encoded data removed]",
      "text/plain": [
       "<Figure size 432x288 with 1 Axes>"
      ]
     },
     "metadata": {
      "needs_background": "light"
     },
     "output_type": "display_data"
    }
   ],
   "source": [
    "# libraries\n",
    "import matplotlib.pyplot as plt\n",
    "import numpy as np\n",
    "import pandas as pd\n",
    " \n",
    "\n",
    "# Data\n",
    "df=pd.DataFrame({'x':pd.date_range(\"01/22/20\", periods=days),'y11':line_confirmed[4:len(line)],'y22':line_deths[4:len(line)],'y33':line_recovered[4:len(line)]})\n",
    "# multiple line plot\n",
    "plt.plot( 'x', 'y11', data=df, marker='', color='orange', linewidth=1,label=\"confirmed\")\n",
    "plt.plot( 'x', 'y22', data=df, marker='', color='red', linewidth=1,label=\"deths\")\n",
    "plt.plot( 'x', 'y33', data=df, marker='', color='green', linewidth=1,label=\"recovered\")\n",
    "plt.legend()\n",
    "plt.yscale(\"log\")"
   ]
  },
  {
   "cell_type": "code",
   "execution_count": null,
   "metadata": {},
   "outputs": [],
   "source": []
  }
 ],
 "metadata": {
  "kernelspec": {
   "display_name": "Python 3",
   "language": "python",
   "name": "python3"
  },
  "language_info": {
   "codemirror_mode": {
    "name": "ipython",
    "version": 3
   },
   "file_extension": ".py",
   "mimetype": "text/x-python",
   "name": "python",
   "nbconvert_exporter": "python",
   "pygments_lexer": "ipython3",
   "version": "3.7.6-final"
  }
 },
 "nbformat": 4,
 "nbformat_minor": 4
}